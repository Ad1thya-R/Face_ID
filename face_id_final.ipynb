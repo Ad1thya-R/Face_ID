{
 "cells": [
  {
   "cell_type": "markdown",
   "id": "e009e463-a8bf-4fa7-8200-635138f75b1b",
   "metadata": {
    "tags": []
   },
   "source": [
    "# 1. Setup"
   ]
  },
  {
   "cell_type": "markdown",
   "id": "dac6d6fe-f348-4e4a-ba18-0956bcbeb627",
   "metadata": {},
   "source": [
    "## 1.1 Install dependencies"
   ]
  },
  {
   "cell_type": "code",
   "execution_count": 1,
   "id": "fd3a91d0-a2c1-41e9-99ac-29e323cc844d",
   "metadata": {
    "tags": []
   },
   "outputs": [
    {
     "name": "stdout",
     "output_type": "stream",
     "text": [
      "Requirement already satisfied: tensorflow in /Users/ad1thya_r/opt/anaconda3/envs/tf/lib/python3.7/site-packages (2.0.0)\n",
      "Requirement already satisfied: opencv-python in /Users/ad1thya_r/opt/anaconda3/envs/tf/lib/python3.7/site-packages (4.6.0.66)\n",
      "Requirement already satisfied: matplotlib in /Users/ad1thya_r/opt/anaconda3/envs/tf/lib/python3.7/site-packages (3.5.3)\n",
      "Requirement already satisfied: google-pasta>=0.1.6 in /Users/ad1thya_r/opt/anaconda3/envs/tf/lib/python3.7/site-packages (from tensorflow) (0.2.0)\n",
      "Requirement already satisfied: tensorflow-estimator<2.1.0,>=2.0.0 in /Users/ad1thya_r/opt/anaconda3/envs/tf/lib/python3.7/site-packages (from tensorflow) (2.0.0)\n",
      "Requirement already satisfied: wheel>=0.26 in /Users/ad1thya_r/opt/anaconda3/envs/tf/lib/python3.7/site-packages (from tensorflow) (0.37.1)\n",
      "Requirement already satisfied: opt-einsum>=2.3.2 in /Users/ad1thya_r/opt/anaconda3/envs/tf/lib/python3.7/site-packages (from tensorflow) (3.3.0)\n",
      "Requirement already satisfied: keras-preprocessing>=1.0.5 in /Users/ad1thya_r/opt/anaconda3/envs/tf/lib/python3.7/site-packages (from tensorflow) (1.1.2)\n",
      "Requirement already satisfied: protobuf>=3.6.1 in /Users/ad1thya_r/opt/anaconda3/envs/tf/lib/python3.7/site-packages (from tensorflow) (3.20.1)\n",
      "Requirement already satisfied: termcolor>=1.1.0 in /Users/ad1thya_r/opt/anaconda3/envs/tf/lib/python3.7/site-packages (from tensorflow) (1.1.0)\n",
      "Requirement already satisfied: wrapt>=1.11.1 in /Users/ad1thya_r/opt/anaconda3/envs/tf/lib/python3.7/site-packages (from tensorflow) (1.14.1)\n",
      "Requirement already satisfied: numpy<2.0,>=1.16.0 in /Users/ad1thya_r/opt/anaconda3/envs/tf/lib/python3.7/site-packages (from tensorflow) (1.21.6)\n",
      "Requirement already satisfied: grpcio>=1.8.6 in /Users/ad1thya_r/opt/anaconda3/envs/tf/lib/python3.7/site-packages (from tensorflow) (1.42.0)\n",
      "Requirement already satisfied: gast==0.2.2 in /Users/ad1thya_r/opt/anaconda3/envs/tf/lib/python3.7/site-packages (from tensorflow) (0.2.2)\n",
      "Requirement already satisfied: astor>=0.6.0 in /Users/ad1thya_r/opt/anaconda3/envs/tf/lib/python3.7/site-packages (from tensorflow) (0.8.1)\n",
      "Requirement already satisfied: keras-applications>=1.0.8 in /Users/ad1thya_r/opt/anaconda3/envs/tf/lib/python3.7/site-packages (from tensorflow) (1.0.8)\n",
      "Requirement already satisfied: tensorboard<2.1.0,>=2.0.0 in /Users/ad1thya_r/opt/anaconda3/envs/tf/lib/python3.7/site-packages (from tensorflow) (2.0.0)\n",
      "Requirement already satisfied: absl-py>=0.7.0 in /Users/ad1thya_r/opt/anaconda3/envs/tf/lib/python3.7/site-packages (from tensorflow) (0.15.0)\n",
      "Requirement already satisfied: six>=1.10.0 in /Users/ad1thya_r/opt/anaconda3/envs/tf/lib/python3.7/site-packages (from tensorflow) (1.16.0)\n",
      "Requirement already satisfied: packaging>=20.0 in /Users/ad1thya_r/opt/anaconda3/envs/tf/lib/python3.7/site-packages (from matplotlib) (21.3)\n",
      "Requirement already satisfied: pillow>=6.2.0 in /Users/ad1thya_r/opt/anaconda3/envs/tf/lib/python3.7/site-packages (from matplotlib) (9.2.0)\n",
      "Requirement already satisfied: pyparsing>=2.2.1 in /Users/ad1thya_r/opt/anaconda3/envs/tf/lib/python3.7/site-packages (from matplotlib) (3.0.9)\n",
      "Requirement already satisfied: python-dateutil>=2.7 in /Users/ad1thya_r/opt/anaconda3/envs/tf/lib/python3.7/site-packages (from matplotlib) (2.8.2)\n",
      "Requirement already satisfied: fonttools>=4.22.0 in /Users/ad1thya_r/opt/anaconda3/envs/tf/lib/python3.7/site-packages (from matplotlib) (4.37.1)\n",
      "Requirement already satisfied: kiwisolver>=1.0.1 in /Users/ad1thya_r/opt/anaconda3/envs/tf/lib/python3.7/site-packages (from matplotlib) (1.4.4)\n",
      "Requirement already satisfied: cycler>=0.10 in /Users/ad1thya_r/opt/anaconda3/envs/tf/lib/python3.7/site-packages (from matplotlib) (0.11.0)\n",
      "Requirement already satisfied: h5py in /Users/ad1thya_r/opt/anaconda3/envs/tf/lib/python3.7/site-packages (from keras-applications>=1.0.8->tensorflow) (2.10.0)\n",
      "Requirement already satisfied: typing-extensions in /Users/ad1thya_r/opt/anaconda3/envs/tf/lib/python3.7/site-packages (from kiwisolver>=1.0.1->matplotlib) (4.3.0)\n",
      "Requirement already satisfied: markdown>=2.6.8 in /Users/ad1thya_r/opt/anaconda3/envs/tf/lib/python3.7/site-packages (from tensorboard<2.1.0,>=2.0.0->tensorflow) (3.3.4)\n",
      "Requirement already satisfied: setuptools>=41.0.0 in /Users/ad1thya_r/opt/anaconda3/envs/tf/lib/python3.7/site-packages (from tensorboard<2.1.0,>=2.0.0->tensorflow) (63.4.1)\n",
      "Requirement already satisfied: werkzeug>=0.11.15 in /Users/ad1thya_r/opt/anaconda3/envs/tf/lib/python3.7/site-packages (from tensorboard<2.1.0,>=2.0.0->tensorflow) (2.0.3)\n",
      "Requirement already satisfied: importlib-metadata in /Users/ad1thya_r/opt/anaconda3/envs/tf/lib/python3.7/site-packages (from markdown>=2.6.8->tensorboard<2.1.0,>=2.0.0->tensorflow) (4.11.3)\n",
      "Requirement already satisfied: zipp>=0.5 in /Users/ad1thya_r/opt/anaconda3/envs/tf/lib/python3.7/site-packages (from importlib-metadata->markdown>=2.6.8->tensorboard<2.1.0,>=2.0.0->tensorflow) (3.8.0)\n"
     ]
    }
   ],
   "source": [
    "!pip install tensorflow opencv-python matplotlib "
   ]
  },
  {
   "cell_type": "markdown",
   "id": "9573d8d3-37d2-4d2d-af11-bfbb6433fd67",
   "metadata": {},
   "source": [
    "## 1.2 Import dependencies"
   ]
  },
  {
   "cell_type": "code",
   "execution_count": 2,
   "id": "e2738a92-5dfd-411a-91e8-8f2f524e0dc9",
   "metadata": {},
   "outputs": [],
   "source": [
    "# Import standard dependencies\n",
    "import cv2\n",
    "import os\n",
    "import random\n",
    "import numpy as np\n",
    "from matplotlib import pyplot as plt"
   ]
  },
  {
   "cell_type": "code",
   "execution_count": 3,
   "id": "7d0720dd-118f-480e-be61-fd50a879f450",
   "metadata": {},
   "outputs": [],
   "source": [
    "# Import tensorflow dependencies - Functional API\n",
    "from tensorflow.keras.models import Model\n",
    "from tensorflow.keras.layers import Layer, Conv2D, Dense, MaxPooling2D, Input, Flatten\n",
    "import tensorflow as tf"
   ]
  },
  {
   "cell_type": "markdown",
   "id": "3f0ba892-9e74-437f-9209-d5e8b01ae1b6",
   "metadata": {},
   "source": [
    "## 1.3 Set GPU growth"
   ]
  },
  {
   "cell_type": "code",
   "execution_count": 4,
   "id": "06d657b8-520a-4233-8ef4-44e9f4e4ca9d",
   "metadata": {},
   "outputs": [],
   "source": [
    "# Avoid OOM errors by setting GPU Memory Consumption Growth\n",
    "gpus = tf.config.experimental.list_physical_devices('GPU')\n",
    "for gpu in gpus: \n",
    "    tf.config.experimental.set_memory_growth(gpu, True)"
   ]
  },
  {
   "cell_type": "markdown",
   "id": "db329def-3b1c-4ceb-a2df-f4555ec52865",
   "metadata": {},
   "source": [
    "## 1.4 Create Folder Structures"
   ]
  },
  {
   "cell_type": "code",
   "execution_count": 5,
   "id": "f0e0508e-2284-431f-93af-b45f6ac6cb4b",
   "metadata": {},
   "outputs": [],
   "source": [
    "\n",
    "# Setup paths\n",
    "POS_PATH = os.path.join('data', 'positive')\n",
    "NEG_PATH = os.path.join('data', 'negative')\n",
    "ANC_PATH = os.path.join('data', 'anchor')"
   ]
  },
  {
   "cell_type": "markdown",
   "id": "a444ad87-1538-4de8-9771-30dd829bcdbb",
   "metadata": {},
   "source": [
    "# Collect Positive and Anchor images"
   ]
  },
  {
   "cell_type": "markdown",
   "id": "de3783e4-98d5-4f44-bddb-a4678473816c",
   "metadata": {},
   "source": [
    "## 2.1 Untar Labelled Faces in the Wild Dataset"
   ]
  },
  {
   "cell_type": "code",
   "execution_count": 6,
   "id": "7de20d8f-1000-4c20-ba5f-3c554a0f2eb7",
   "metadata": {},
   "outputs": [],
   "source": [
    "# Move LFW Images to the following repository data/negative\n",
    "for directory in os.listdir('lfw'):\n",
    "    for file in os.listdir(os.path.join('lfw', directory)):\n",
    "        EX_PATH = os.path.join('lfw', directory, file)\n",
    "        NEW_PATH = os.path.join(NEG_PATH, file)\n",
    "        os.replace(EX_PATH, NEW_PATH)"
   ]
  },
  {
   "cell_type": "markdown",
   "id": "144f95c5-f52e-4374-af15-7d6f2640baa2",
   "metadata": {},
   "source": [
    "## 2.2 Collect Positive and Anchor Classes"
   ]
  },
  {
   "cell_type": "code",
   "execution_count": 7,
   "id": "0e59f067-2967-4125-99d0-8ab0f98f1e24",
   "metadata": {},
   "outputs": [],
   "source": [
    "# Import uuid library to generate unique image names\n",
    "import uuid"
   ]
  },
  {
   "cell_type": "code",
   "execution_count": 8,
   "id": "31bbec02-7e57-41a5-9b7c-5eba4656dfb0",
   "metadata": {},
   "outputs": [
    {
     "data": {
      "text/plain": [
       "'data/anchor/ed7105a6-32ba-11ed-b2fd-22f852edb957.jpg'"
      ]
     },
     "execution_count": 8,
     "metadata": {},
     "output_type": "execute_result"
    }
   ],
   "source": [
    "os.path.join(ANC_PATH, '{}.jpg'.format(uuid.uuid1()))"
   ]
  },
  {
   "cell_type": "code",
   "execution_count": 9,
   "id": "0a0f7d13-a86e-45e6-96d2-2d996512656b",
   "metadata": {
    "tags": []
   },
   "outputs": [
    {
     "data": {
      "text/plain": [
       "\"\\n#Collect anchor photos\\n\\n# Establish a connection to the webcam\\ncap = cv2.VideoCapture(0)\\ncounter=0\\nwhile cap.isOpened(): \\n    ret, frame = cap.read()\\n    # Cut down frame to 250x250px\\n    frame = frame[150:150+700,750:750+700, :]\\n    frame = cv2.resize(frame, (250,250), interpolation = cv2.INTER_AREA)\\n    # Collect anchors \\n    if cv2.waitKey(100):\\n        counter+=1\\n        # Create the unique file path \\n        imgname = os.path.join(ANC_PATH, '{}.jpg'.format(uuid.uuid1()))\\n        # Write out anchor image\\n        cv2.imwrite(imgname, frame)\\n        \\n    \\n    # Breaking gracefully\\n    if counter>399:\\n        break\\n# Release the webcam\\ncap.release()\\n# Close the image show frame\\ncv2.destroyAllWindows()\\n\""
      ]
     },
     "execution_count": 9,
     "metadata": {},
     "output_type": "execute_result"
    }
   ],
   "source": [
    "\"\"\"\n",
    "#Collect anchor photos\n",
    "\n",
    "# Establish a connection to the webcam\n",
    "cap = cv2.VideoCapture(0)\n",
    "counter=0\n",
    "while cap.isOpened(): \n",
    "    ret, frame = cap.read()\n",
    "    # Cut down frame to 250x250px\n",
    "    frame = frame[150:150+700,750:750+700, :]\n",
    "    frame = cv2.resize(frame, (250,250), interpolation = cv2.INTER_AREA)\n",
    "    # Collect anchors \n",
    "    if cv2.waitKey(100):\n",
    "        counter+=1\n",
    "        # Create the unique file path \n",
    "        imgname = os.path.join(ANC_PATH, '{}.jpg'.format(uuid.uuid1()))\n",
    "        # Write out anchor image\n",
    "        cv2.imwrite(imgname, frame)\n",
    "        \n",
    "    \n",
    "    # Breaking gracefully\n",
    "    if counter>399:\n",
    "        break\n",
    "# Release the webcam\n",
    "cap.release()\n",
    "# Close the image show frame\n",
    "cv2.destroyAllWindows()\n",
    "\"\"\""
   ]
  },
  {
   "cell_type": "code",
   "execution_count": 10,
   "id": "8acb8145-335f-4db4-9ddd-f167f2b67357",
   "metadata": {
    "tags": []
   },
   "outputs": [
    {
     "data": {
      "text/plain": [
       "'\\nplt.imshow(frame)\\nprint(frame.shape)\\n'"
      ]
     },
     "execution_count": 10,
     "metadata": {},
     "output_type": "execute_result"
    }
   ],
   "source": [
    "\"\"\"\n",
    "plt.imshow(frame)\n",
    "print(frame.shape)\n",
    "\"\"\""
   ]
  },
  {
   "cell_type": "code",
   "execution_count": 11,
   "id": "b9f167d5-328d-4501-beba-47eddea48889",
   "metadata": {},
   "outputs": [
    {
     "data": {
      "text/plain": [
       "\"\\n#Collect positive photos\\n\\n# Establish a connection to the webcam\\ncap = cv2.VideoCapture(0)\\ncounter=0\\nwhile cap.isOpened(): \\n    ret, frame = cap.read()\\n    # Cut down frame to 250x250px\\n    frame = frame[150:150+700,750:750+700, :]\\n    frame = cv2.resize(frame, (250,250), interpolation = cv2.INTER_AREA)\\n    # Collect anchors \\n    if cv2.waitKey(100):\\n        counter+=1\\n        # Create the unique file path \\n        imgname = os.path.join(POS_PATH, '{}.jpg'.format(uuid.uuid1()))\\n        # Write out anchor image\\n        cv2.imwrite(imgname, frame)\\n        \\n    \\n    # Breaking gracefully\\n    if counter>399:\\n        break\\n# Release the webcam\\ncap.release()\\n# Close the image show frame\\ncv2.destroyAllWindows()\\n\""
      ]
     },
     "execution_count": 11,
     "metadata": {},
     "output_type": "execute_result"
    }
   ],
   "source": [
    "\"\"\"\n",
    "#Collect positive photos\n",
    "\n",
    "# Establish a connection to the webcam\n",
    "cap = cv2.VideoCapture(0)\n",
    "counter=0\n",
    "while cap.isOpened(): \n",
    "    ret, frame = cap.read()\n",
    "    # Cut down frame to 250x250px\n",
    "    frame = frame[150:150+700,750:750+700, :]\n",
    "    frame = cv2.resize(frame, (250,250), interpolation = cv2.INTER_AREA)\n",
    "    # Collect anchors \n",
    "    if cv2.waitKey(100):\n",
    "        counter+=1\n",
    "        # Create the unique file path \n",
    "        imgname = os.path.join(POS_PATH, '{}.jpg'.format(uuid.uuid1()))\n",
    "        # Write out anchor image\n",
    "        cv2.imwrite(imgname, frame)\n",
    "        \n",
    "    \n",
    "    # Breaking gracefully\n",
    "    if counter>399:\n",
    "        break\n",
    "# Release the webcam\n",
    "cap.release()\n",
    "# Close the image show frame\n",
    "cv2.destroyAllWindows()\n",
    "\"\"\""
   ]
  },
  {
   "cell_type": "code",
   "execution_count": 12,
   "id": "6a6d7d7e-8983-49f9-90e8-8ec69aa32513",
   "metadata": {},
   "outputs": [
    {
     "data": {
      "text/plain": [
       "'\\nplt.imshow(frame)\\nprint(frame.shape)\\n'"
      ]
     },
     "execution_count": 12,
     "metadata": {},
     "output_type": "execute_result"
    }
   ],
   "source": [
    "\"\"\"\n",
    "plt.imshow(frame)\n",
    "print(frame.shape)\n",
    "\"\"\""
   ]
  },
  {
   "cell_type": "markdown",
   "id": "4a51dc5a-9bb7-4029-bce5-4b57755fff28",
   "metadata": {},
   "source": [
    "# 3. Load and preprocess images"
   ]
  },
  {
   "cell_type": "markdown",
   "id": "7b320ff8-feaf-468c-86c3-984c67b8fdb1",
   "metadata": {},
   "source": [
    "## 3.1 Get Image Directories"
   ]
  },
  {
   "cell_type": "code",
   "execution_count": 13,
   "id": "1894597d-aebf-47f2-a417-abe298ba31dd",
   "metadata": {},
   "outputs": [
    {
     "name": "stderr",
     "output_type": "stream",
     "text": [
      "2022-09-12 18:49:54.755464: I tensorflow/core/platform/cpu_feature_guard.cc:145] This TensorFlow binary is optimized with Intel(R) MKL-DNN to use the following CPU instructions in performance critical operations:  SSE4.1 SSE4.2\n",
      "To enable them in non-MKL-DNN operations, rebuild TensorFlow with the appropriate compiler flags.\n",
      "2022-09-12 18:49:54.756256: I tensorflow/core/common_runtime/process_util.cc:115] Creating new thread pool with default inter op setting: 10. Tune using inter_op_parallelism_threads for best performance.\n"
     ]
    }
   ],
   "source": [
    "anchor = tf.data.Dataset.list_files(ANC_PATH+'/*.jpg').take(400)\n",
    "positive = tf.data.Dataset.list_files(POS_PATH+'/*.jpg').take(400)\n",
    "negative = tf.data.Dataset.list_files(NEG_PATH+'/*.jpg').take(400)"
   ]
  },
  {
   "cell_type": "code",
   "execution_count": 14,
   "id": "a80098b4-7d71-4ce9-a0be-f5337edcabd8",
   "metadata": {
    "tags": []
   },
   "outputs": [
    {
     "name": "stdout",
     "output_type": "stream",
     "text": [
      "tf.Tensor(b'data/positive/0fb1818e-30f1-11ed-91b0-22f852edb959.jpg', shape=(), dtype=string)\n",
      "tf.Tensor(b'data/positive/1573ae6c-30f1-11ed-91b0-22f852edb959.jpg', shape=(), dtype=string)\n",
      "tf.Tensor(b'data/positive/021ab23e-30f1-11ed-91b0-22f852edb959.jpg', shape=(), dtype=string)\n",
      "tf.Tensor(b'data/positive/02a156f4-30f1-11ed-91b0-22f852edb959.jpg', shape=(), dtype=string)\n",
      "tf.Tensor(b'data/positive/1e8f3ce6-30f1-11ed-91b0-22f852edb959.jpg', shape=(), dtype=string)\n",
      "tf.Tensor(b'data/positive/147e796a-30f1-11ed-91b0-22f852edb959.jpg', shape=(), dtype=string)\n",
      "tf.Tensor(b'data/positive/1c2fdb2c-30f1-11ed-91b0-22f852edb959.jpg', shape=(), dtype=string)\n",
      "tf.Tensor(b'data/positive/ff4ad804-30f0-11ed-91b0-22f852edb959.jpg', shape=(), dtype=string)\n",
      "tf.Tensor(b'data/positive/0085591a-30f1-11ed-91b0-22f852edb959.jpg', shape=(), dtype=string)\n",
      "tf.Tensor(b'data/positive/002ade18-30f1-11ed-91b0-22f852edb959.jpg', shape=(), dtype=string)\n",
      "tf.Tensor(b'data/positive/0d7e63b4-30f1-11ed-91b0-22f852edb959.jpg', shape=(), dtype=string)\n",
      "tf.Tensor(b'data/positive/06a8b5da-30f1-11ed-91b0-22f852edb959.jpg', shape=(), dtype=string)\n",
      "tf.Tensor(b'data/positive/144f0252-30f1-11ed-91b0-22f852edb959.jpg', shape=(), dtype=string)\n",
      "tf.Tensor(b'data/positive/136f7772-30f1-11ed-91b0-22f852edb959.jpg', shape=(), dtype=string)\n",
      "tf.Tensor(b'data/positive/1ee8fb46-30f1-11ed-91b0-22f852edb959.jpg', shape=(), dtype=string)\n",
      "tf.Tensor(b'data/positive/05b679be-30f1-11ed-91b0-22f852edb959.jpg', shape=(), dtype=string)\n",
      "tf.Tensor(b'data/positive/0ada4e7a-30f1-11ed-91b0-22f852edb959.jpg', shape=(), dtype=string)\n",
      "tf.Tensor(b'data/positive/1721a1a6-30f1-11ed-91b0-22f852edb959.jpg', shape=(), dtype=string)\n",
      "tf.Tensor(b'data/positive/028c2e14-30f1-11ed-91b0-22f852edb959.jpg', shape=(), dtype=string)\n",
      "tf.Tensor(b'data/positive/0dd98758-30f1-11ed-91b0-22f852edb959.jpg', shape=(), dtype=string)\n",
      "tf.Tensor(b'data/positive/1b63cadc-30f1-11ed-91b0-22f852edb959.jpg', shape=(), dtype=string)\n",
      "tf.Tensor(b'data/positive/0c717cfe-30f1-11ed-91b0-22f852edb959.jpg', shape=(), dtype=string)\n",
      "tf.Tensor(b'data/positive/09e24b26-30f1-11ed-91b0-22f852edb959.jpg', shape=(), dtype=string)\n",
      "tf.Tensor(b'data/positive/03afac12-30f1-11ed-91b0-22f852edb959.jpg', shape=(), dtype=string)\n",
      "tf.Tensor(b'data/positive/18f8e962-30f1-11ed-91b0-22f852edb959.jpg', shape=(), dtype=string)\n",
      "tf.Tensor(b'data/positive/1c5cf814-30f1-11ed-91b0-22f852edb959.jpg', shape=(), dtype=string)\n",
      "tf.Tensor(b'data/positive/006f598a-30f1-11ed-91b0-22f852edb959.jpg', shape=(), dtype=string)\n",
      "tf.Tensor(b'data/positive/0e4a2792-30f1-11ed-91b0-22f852edb959.jpg', shape=(), dtype=string)\n",
      "tf.Tensor(b'data/positive/1232628e-30f1-11ed-91b0-22f852edb959.jpg', shape=(), dtype=string)\n",
      "tf.Tensor(b'data/positive/01920f1a-30f1-11ed-91b0-22f852edb959.jpg', shape=(), dtype=string)\n",
      "tf.Tensor(b'data/positive/16829390-30f1-11ed-91b0-22f852edb959.jpg', shape=(), dtype=string)\n",
      "tf.Tensor(b'data/positive/fef4124e-30f0-11ed-91b0-22f852edb959.jpg', shape=(), dtype=string)\n",
      "tf.Tensor(b'data/positive/13c81d0a-30f1-11ed-91b0-22f852edb959.jpg', shape=(), dtype=string)\n",
      "tf.Tensor(b'data/positive/084e3c02-30f1-11ed-91b0-22f852edb959.jpg', shape=(), dtype=string)\n",
      "tf.Tensor(b'data/positive/040a6e2c-30f1-11ed-91b0-22f852edb959.jpg', shape=(), dtype=string)\n",
      "tf.Tensor(b'data/positive/00597d40-30f1-11ed-91b0-22f852edb959.jpg', shape=(), dtype=string)\n",
      "tf.Tensor(b'data/positive/009b2a60-30f1-11ed-91b0-22f852edb959.jpg', shape=(), dtype=string)\n",
      "tf.Tensor(b'data/positive/0e329154-30f1-11ed-91b0-22f852edb959.jpg', shape=(), dtype=string)\n",
      "tf.Tensor(b'data/positive/1313eaa6-30f1-11ed-91b0-22f852edb959.jpg', shape=(), dtype=string)\n",
      "tf.Tensor(b'data/positive/10bb14a0-30f1-11ed-91b0-22f852edb959.jpg', shape=(), dtype=string)\n",
      "tf.Tensor(b'data/positive/09893734-30f1-11ed-91b0-22f852edb959.jpg', shape=(), dtype=string)\n",
      "tf.Tensor(b'data/positive/0f2bb810-30f1-11ed-91b0-22f852edb959.jpg', shape=(), dtype=string)\n",
      "tf.Tensor(b'data/positive/05e25ba6-30f1-11ed-91b0-22f852edb959.jpg', shape=(), dtype=string)\n",
      "tf.Tensor(b'data/positive/1075d534-30f1-11ed-91b0-22f852edb959.jpg', shape=(), dtype=string)\n",
      "tf.Tensor(b'data/positive/00c8bde0-30f1-11ed-91b0-22f852edb959.jpg', shape=(), dtype=string)\n",
      "tf.Tensor(b'data/positive/09024dbe-30f1-11ed-91b0-22f852edb959.jpg', shape=(), dtype=string)\n",
      "tf.Tensor(b'data/positive/1add0056-30f1-11ed-91b0-22f852edb959.jpg', shape=(), dtype=string)\n",
      "tf.Tensor(b'data/positive/1dc35004-30f1-11ed-91b0-22f852edb959.jpg', shape=(), dtype=string)\n",
      "tf.Tensor(b'data/positive/03823bf6-30f1-11ed-91b0-22f852edb959.jpg', shape=(), dtype=string)\n",
      "tf.Tensor(b'data/positive/0d5235b4-30f1-11ed-91b0-22f852edb959.jpg', shape=(), dtype=string)\n",
      "tf.Tensor(b'data/positive/119b6e42-30f1-11ed-91b0-22f852edb959.jpg', shape=(), dtype=string)\n",
      "tf.Tensor(b'data/positive/116e9174-30f1-11ed-91b0-22f852edb959.jpg', shape=(), dtype=string)\n",
      "tf.Tensor(b'data/positive/08be4ede-30f1-11ed-91b0-22f852edb959.jpg', shape=(), dtype=string)\n",
      "tf.Tensor(b'data/positive/158b120a-30f1-11ed-91b0-22f852edb959.jpg', shape=(), dtype=string)\n",
      "tf.Tensor(b'data/positive/1cb5c30e-30f1-11ed-91b0-22f852edb959.jpg', shape=(), dtype=string)\n",
      "tf.Tensor(b'data/positive/17913a70-30f1-11ed-91b0-22f852edb959.jpg', shape=(), dtype=string)\n",
      "tf.Tensor(b'data/positive/0730dd66-30f1-11ed-91b0-22f852edb959.jpg', shape=(), dtype=string)\n",
      "tf.Tensor(b'data/positive/1beb16fe-30f1-11ed-91b0-22f852edb959.jpg', shape=(), dtype=string)\n",
      "tf.Tensor(b'data/positive/127773ba-30f1-11ed-91b0-22f852edb959.jpg', shape=(), dtype=string)\n",
      "tf.Tensor(b'data/positive/1c89f382-30f1-11ed-91b0-22f852edb959.jpg', shape=(), dtype=string)\n",
      "tf.Tensor(b'data/positive/190e1152-30f1-11ed-91b0-22f852edb959.jpg', shape=(), dtype=string)\n",
      "tf.Tensor(b'data/positive/1f882cd4-30f1-11ed-91b0-22f852edb959.jpg', shape=(), dtype=string)\n",
      "tf.Tensor(b'data/positive/0a3e322e-30f1-11ed-91b0-22f852edb959.jpg', shape=(), dtype=string)\n",
      "tf.Tensor(b'data/positive/0a109b98-30f1-11ed-91b0-22f852edb959.jpg', shape=(), dtype=string)\n",
      "tf.Tensor(b'data/positive/0ce1d9e0-30f1-11ed-91b0-22f852edb959.jpg', shape=(), dtype=string)\n",
      "tf.Tensor(b'data/positive/ffa5e046-30f0-11ed-91b0-22f852edb959.jpg', shape=(), dtype=string)\n",
      "tf.Tensor(b'data/positive/02b84954-30f1-11ed-91b0-22f852edb959.jpg', shape=(), dtype=string)\n",
      "tf.Tensor(b'data/positive/11b09baa-30f1-11ed-91b0-22f852edb959.jpg', shape=(), dtype=string)\n",
      "tf.Tensor(b'data/positive/ff099538-30f0-11ed-91b0-22f852edb959.jpg', shape=(), dtype=string)\n",
      "tf.Tensor(b'data/positive/194fdaa6-30f1-11ed-91b0-22f852edb959.jpg', shape=(), dtype=string)\n",
      "tf.Tensor(b'data/positive/09460dc4-30f1-11ed-91b0-22f852edb959.jpg', shape=(), dtype=string)\n",
      "tf.Tensor(b'data/positive/203c0632-30f1-11ed-91b0-22f852edb959.jpg', shape=(), dtype=string)\n",
      "tf.Tensor(b'data/positive/200f3abc-30f1-11ed-91b0-22f852edb959.jpg', shape=(), dtype=string)\n",
      "tf.Tensor(b'data/positive/1438a174-30f1-11ed-91b0-22f852edb959.jpg', shape=(), dtype=string)\n",
      "tf.Tensor(b'data/positive/16f3fbde-30f1-11ed-91b0-22f852edb959.jpg', shape=(), dtype=string)\n",
      "tf.Tensor(b'data/positive/08eb12e8-30f1-11ed-91b0-22f852edb959.jpg', shape=(), dtype=string)\n",
      "tf.Tensor(b'data/positive/095cf78c-30f1-11ed-91b0-22f852edb959.jpg', shape=(), dtype=string)\n",
      "tf.Tensor(b'data/positive/ff606ea8-30f0-11ed-91b0-22f852edb959.jpg', shape=(), dtype=string)\n",
      "tf.Tensor(b'data/positive/045360aa-30f1-11ed-91b0-22f852edb959.jpg', shape=(), dtype=string)\n",
      "tf.Tensor(b'data/positive/1184392a-30f1-11ed-91b0-22f852edb959.jpg', shape=(), dtype=string)\n",
      "tf.Tensor(b'data/positive/067a887c-30f1-11ed-91b0-22f852edb959.jpg', shape=(), dtype=string)\n",
      "tf.Tensor(b'data/positive/1924fd9a-30f1-11ed-91b0-22f852edb959.jpg', shape=(), dtype=string)\n",
      "tf.Tensor(b'data/positive/02fbb252-30f1-11ed-91b0-22f852edb959.jpg', shape=(), dtype=string)\n",
      "tf.Tensor(b'data/positive/0c875cb8-30f1-11ed-91b0-22f852edb959.jpg', shape=(), dtype=string)\n",
      "tf.Tensor(b'data/positive/064c67c6-30f1-11ed-91b0-22f852edb959.jpg', shape=(), dtype=string)\n",
      "tf.Tensor(b'data/positive/087b5d90-30f1-11ed-91b0-22f852edb959.jpg', shape=(), dtype=string)\n",
      "tf.Tensor(b'data/positive/03570030-30f1-11ed-91b0-22f852edb959.jpg', shape=(), dtype=string)\n",
      "tf.Tensor(b'data/positive/063a1576-30f1-11ed-91b0-22f852edb959.jpg', shape=(), dtype=string)\n",
      "tf.Tensor(b'data/positive/0497c5ec-30f1-11ed-91b0-22f852edb959.jpg', shape=(), dtype=string)\n",
      "tf.Tensor(b'data/positive/ff1db374-30f0-11ed-91b0-22f852edb959.jpg', shape=(), dtype=string)\n",
      "tf.Tensor(b'data/positive/14c02b3a-30f1-11ed-91b0-22f852edb959.jpg', shape=(), dtype=string)\n",
      "tf.Tensor(b'data/positive/1979d536-30f1-11ed-91b0-22f852edb959.jpg', shape=(), dtype=string)\n",
      "tf.Tensor(b'data/positive/fe6b0c24-30f0-11ed-91b0-22f852edb959.jpg', shape=(), dtype=string)\n",
      "tf.Tensor(b'data/positive/0122526a-30f1-11ed-91b0-22f852edb959.jpg', shape=(), dtype=string)\n",
      "tf.Tensor(b'data/positive/09b60674-30f1-11ed-91b0-22f852edb959.jpg', shape=(), dtype=string)\n",
      "tf.Tensor(b'data/positive/19fd2a8a-30f1-11ed-91b0-22f852edb959.jpg', shape=(), dtype=string)\n",
      "tf.Tensor(b'data/positive/01665b5e-30f1-11ed-91b0-22f852edb959.jpg', shape=(), dtype=string)\n",
      "tf.Tensor(b'data/positive/2067da3c-30f1-11ed-91b0-22f852edb959.jpg', shape=(), dtype=string)\n",
      "tf.Tensor(b'data/positive/0af1be70-30f1-11ed-91b0-22f852edb959.jpg', shape=(), dtype=string)\n",
      "tf.Tensor(b'data/positive/14934b38-30f1-11ed-91b0-22f852edb959.jpg', shape=(), dtype=string)\n",
      "tf.Tensor(b'data/positive/1bd50ae4-30f1-11ed-91b0-22f852edb959.jpg', shape=(), dtype=string)\n",
      "tf.Tensor(b'data/positive/1f5a7910-30f1-11ed-91b0-22f852edb959.jpg', shape=(), dtype=string)\n",
      "tf.Tensor(b'data/positive/1c18c7fc-30f1-11ed-91b0-22f852edb959.jpg', shape=(), dtype=string)\n",
      "tf.Tensor(b'data/positive/0717d83e-30f1-11ed-91b0-22f852edb959.jpg', shape=(), dtype=string)\n",
      "tf.Tensor(b'data/positive/0012a834-30f1-11ed-91b0-22f852edb959.jpg', shape=(), dtype=string)\n",
      "tf.Tensor(b'data/positive/1ac55fd2-30f1-11ed-91b0-22f852edb959.jpg', shape=(), dtype=string)\n",
      "tf.Tensor(b'data/positive/128d2606-30f1-11ed-91b0-22f852edb959.jpg', shape=(), dtype=string)\n",
      "tf.Tensor(b'data/positive/10a336dc-30f1-11ed-91b0-22f852edb959.jpg', shape=(), dtype=string)\n",
      "tf.Tensor(b'data/positive/12b8d684-30f1-11ed-91b0-22f852edb959.jpg', shape=(), dtype=string)\n",
      "tf.Tensor(b'data/positive/193b15bc-30f1-11ed-91b0-22f852edb959.jpg', shape=(), dtype=string)\n",
      "tf.Tensor(b'data/positive/0ebab052-30f1-11ed-91b0-22f852edb959.jpg', shape=(), dtype=string)\n",
      "tf.Tensor(b'data/positive/1c0186aa-30f1-11ed-91b0-22f852edb959.jpg', shape=(), dtype=string)\n",
      "tf.Tensor(b'data/positive/1a13448c-30f1-11ed-91b0-22f852edb959.jpg', shape=(), dtype=string)\n",
      "tf.Tensor(b'data/positive/0c43a310-30f1-11ed-91b0-22f852edb959.jpg', shape=(), dtype=string)\n",
      "tf.Tensor(b'data/positive/0efc5ae8-30f1-11ed-91b0-22f852edb959.jpg', shape=(), dtype=string)\n",
      "tf.Tensor(b'data/positive/0b34d868-30f1-11ed-91b0-22f852edb959.jpg', shape=(), dtype=string)\n",
      "tf.Tensor(b'data/positive/1e4b9702-30f1-11ed-91b0-22f852edb959.jpg', shape=(), dtype=string)\n",
      "tf.Tensor(b'data/positive/1503593c-30f1-11ed-91b0-22f852edb959.jpg', shape=(), dtype=string)\n",
      "tf.Tensor(b'data/positive/0a98c194-30f1-11ed-91b0-22f852edb959.jpg', shape=(), dtype=string)\n",
      "tf.Tensor(b'data/positive/0150a7f0-30f1-11ed-91b0-22f852edb959.jpg', shape=(), dtype=string)\n",
      "tf.Tensor(b'data/positive/18cbb398-30f1-11ed-91b0-22f852edb959.jpg', shape=(), dtype=string)\n",
      "tf.Tensor(b'data/positive/0246c3b0-30f1-11ed-91b0-22f852edb959.jpg', shape=(), dtype=string)\n",
      "tf.Tensor(b'data/positive/1d10fd14-30f1-11ed-91b0-22f852edb959.jpg', shape=(), dtype=string)\n",
      "tf.Tensor(b'data/positive/20aa8f26-30f1-11ed-91b0-22f852edb959.jpg', shape=(), dtype=string)\n",
      "tf.Tensor(b'data/positive/06d49678-30f1-11ed-91b0-22f852edb959.jpg', shape=(), dtype=string)\n",
      "tf.Tensor(b'data/positive/1ba7e924-30f1-11ed-91b0-22f852edb959.jpg', shape=(), dtype=string)\n",
      "tf.Tensor(b'data/positive/0e607b1e-30f1-11ed-91b0-22f852edb959.jpg', shape=(), dtype=string)\n",
      "tf.Tensor(b'data/positive/1530dee8-30f1-11ed-91b0-22f852edb959.jpg', shape=(), dtype=string)\n",
      "tf.Tensor(b'data/positive/12d0dbda-30f1-11ed-91b0-22f852edb959.jpg', shape=(), dtype=string)\n",
      "tf.Tensor(b'data/positive/1ca0b018-30f1-11ed-91b0-22f852edb959.jpg', shape=(), dtype=string)\n",
      "tf.Tensor(b'data/positive/07faa704-30f1-11ed-91b0-22f852edb959.jpg', shape=(), dtype=string)\n",
      "tf.Tensor(b'data/positive/04ae3cf0-30f1-11ed-91b0-22f852edb959.jpg', shape=(), dtype=string)\n",
      "tf.Tensor(b'data/positive/166b9e42-30f1-11ed-91b0-22f852edb959.jpg', shape=(), dtype=string)\n",
      "tf.Tensor(b'data/positive/0420d5c2-30f1-11ed-91b0-22f852edb959.jpg', shape=(), dtype=string)\n",
      "tf.Tensor(b'data/positive/06be1c22-30f1-11ed-91b0-22f852edb959.jpg', shape=(), dtype=string)\n",
      "tf.Tensor(b'data/positive/12ff46aa-30f1-11ed-91b0-22f852edb959.jpg', shape=(), dtype=string)\n",
      "tf.Tensor(b'data/positive/182e662e-30f1-11ed-91b0-22f852edb959.jpg', shape=(), dtype=string)\n",
      "tf.Tensor(b'data/positive/132a9260-30f1-11ed-91b0-22f852edb959.jpg', shape=(), dtype=string)\n",
      "tf.Tensor(b'data/positive/0b08a5a4-30f1-11ed-91b0-22f852edb959.jpg', shape=(), dtype=string)\n",
      "tf.Tensor(b'data/positive/1d96c03e-30f1-11ed-91b0-22f852edb959.jpg', shape=(), dtype=string)\n",
      "tf.Tensor(b'data/positive/0ba67c5c-30f1-11ed-91b0-22f852edb959.jpg', shape=(), dtype=string)\n",
      "tf.Tensor(b'data/positive/0d3ae97c-30f1-11ed-91b0-22f852edb959.jpg', shape=(), dtype=string)\n",
      "tf.Tensor(b'data/positive/0b8f5ed2-30f1-11ed-91b0-22f852edb959.jpg', shape=(), dtype=string)\n",
      "tf.Tensor(b'data/positive/1e3147c6-30f1-11ed-91b0-22f852edb959.jpg', shape=(), dtype=string)\n",
      "tf.Tensor(b'data/positive/185bd992-30f1-11ed-91b0-22f852edb959.jpg', shape=(), dtype=string)\n",
      "tf.Tensor(b'data/positive/17d39078-30f1-11ed-91b0-22f852edb959.jpg', shape=(), dtype=string)\n",
      "tf.Tensor(b'data/positive/1d5462e8-30f1-11ed-91b0-22f852edb959.jpg', shape=(), dtype=string)\n",
      "tf.Tensor(b'data/positive/1d80feca-30f1-11ed-91b0-22f852edb959.jpg', shape=(), dtype=string)\n",
      "tf.Tensor(b'data/positive/17648ec6-30f1-11ed-91b0-22f852edb959.jpg', shape=(), dtype=string)\n",
      "tf.Tensor(b'data/positive/1d3c66ca-30f1-11ed-91b0-22f852edb959.jpg', shape=(), dtype=string)\n",
      "tf.Tensor(b'data/positive/0c59102e-30f1-11ed-91b0-22f852edb959.jpg', shape=(), dtype=string)\n",
      "tf.Tensor(b'data/positive/01a987e4-30f1-11ed-91b0-22f852edb959.jpg', shape=(), dtype=string)\n",
      "tf.Tensor(b'data/positive/10d1a67a-30f1-11ed-91b0-22f852edb959.jpg', shape=(), dtype=string)\n",
      "tf.Tensor(b'data/positive/20950e6c-30f1-11ed-91b0-22f852edb959.jpg', shape=(), dtype=string)\n",
      "tf.Tensor(b'data/positive/20246e1e-30f1-11ed-91b0-22f852edb959.jpg', shape=(), dtype=string)\n",
      "tf.Tensor(b'data/positive/11d9656c-30f1-11ed-91b0-22f852edb959.jpg', shape=(), dtype=string)\n",
      "tf.Tensor(b'data/positive/1f431572-30f1-11ed-91b0-22f852edb959.jpg', shape=(), dtype=string)\n",
      "tf.Tensor(b'data/positive/12a35872-30f1-11ed-91b0-22f852edb959.jpg', shape=(), dtype=string)\n",
      "tf.Tensor(b'data/positive/0e8cc2be-30f1-11ed-91b0-22f852edb959.jpg', shape=(), dtype=string)\n",
      "tf.Tensor(b'data/positive/1e78c4fc-30f1-11ed-91b0-22f852edb959.jpg', shape=(), dtype=string)\n",
      "tf.Tensor(b'data/positive/0f848a94-30f1-11ed-91b0-22f852edb959.jpg', shape=(), dtype=string)\n",
      "tf.Tensor(b'data/positive/108c0e1c-30f1-11ed-91b0-22f852edb959.jpg', shape=(), dtype=string)\n",
      "tf.Tensor(b'data/positive/20c0ee74-30f1-11ed-91b0-22f852edb959.jpg', shape=(), dtype=string)\n",
      "tf.Tensor(b'data/positive/1627ec42-30f1-11ed-91b0-22f852edb959.jpg', shape=(), dtype=string)\n",
      "tf.Tensor(b'data/positive/1d268670-30f1-11ed-91b0-22f852edb959.jpg', shape=(), dtype=string)\n",
      "tf.Tensor(b'data/positive/1a831eba-30f1-11ed-91b0-22f852edb959.jpg', shape=(), dtype=string)\n",
      "tf.Tensor(b'data/positive/0311d67c-30f1-11ed-91b0-22f852edb959.jpg', shape=(), dtype=string)\n",
      "tf.Tensor(b'data/positive/1fe0cfb0-30f1-11ed-91b0-22f852edb959.jpg', shape=(), dtype=string)\n",
      "tf.Tensor(b'data/positive/1611fd4c-30f1-11ed-91b0-22f852edb959.jpg', shape=(), dtype=string)\n",
      "tf.Tensor(b'data/positive/1aaf62cc-30f1-11ed-91b0-22f852edb959.jpg', shape=(), dtype=string)\n",
      "tf.Tensor(b'data/positive/0825c3da-30f1-11ed-91b0-22f852edb959.jpg', shape=(), dtype=string)\n",
      "tf.Tensor(b'data/positive/11c3c428-30f1-11ed-91b0-22f852edb959.jpg', shape=(), dtype=string)\n",
      "tf.Tensor(b'data/positive/19d3fb10-30f1-11ed-91b0-22f852edb959.jpg', shape=(), dtype=string)\n",
      "tf.Tensor(b'data/positive/fffc0f3e-30f0-11ed-91b0-22f852edb959.jpg', shape=(), dtype=string)\n",
      "tf.Tensor(b'data/positive/ff76808a-30f0-11ed-91b0-22f852edb959.jpg', shape=(), dtype=string)\n",
      "tf.Tensor(b'data/positive/1049cd36-30f1-11ed-91b0-22f852edb959.jpg', shape=(), dtype=string)\n",
      "tf.Tensor(b'data/positive/1698cca0-30f1-11ed-91b0-22f852edb959.jpg', shape=(), dtype=string)\n",
      "tf.Tensor(b'data/positive/1061b798-30f1-11ed-91b0-22f852edb959.jpg', shape=(), dtype=string)\n",
      "tf.Tensor(b'data/positive/fec689d2-30f0-11ed-91b0-22f852edb959.jpg', shape=(), dtype=string)\n",
      "tf.Tensor(b'data/positive/0864008c-30f1-11ed-91b0-22f852edb959.jpg', shape=(), dtype=string)\n",
      "tf.Tensor(b'data/positive/1f9e5c5c-30f1-11ed-91b0-22f852edb959.jpg', shape=(), dtype=string)\n",
      "tf.Tensor(b'data/positive/1f708c14-30f1-11ed-91b0-22f852edb959.jpg', shape=(), dtype=string)\n",
      "tf.Tensor(b'data/positive/057601ea-30f1-11ed-91b0-22f852edb959.jpg', shape=(), dtype=string)\n",
      "tf.Tensor(b'data/positive/1bc00766-30f1-11ed-91b0-22f852edb959.jpg', shape=(), dtype=string)\n",
      "tf.Tensor(b'data/positive/066360de-30f1-11ed-91b0-22f852edb959.jpg', shape=(), dtype=string)\n",
      "tf.Tensor(b'data/positive/12e75f2c-30f1-11ed-91b0-22f852edb959.jpg', shape=(), dtype=string)\n",
      "tf.Tensor(b'data/positive/15473ce2-30f1-11ed-91b0-22f852edb959.jpg', shape=(), dtype=string)\n",
      "tf.Tensor(b'data/positive/1a409220-30f1-11ed-91b0-22f852edb959.jpg', shape=(), dtype=string)\n",
      "tf.Tensor(b'data/positive/1c46567c-30f1-11ed-91b0-22f852edb959.jpg', shape=(), dtype=string)\n",
      "tf.Tensor(b'data/positive/155d4e88-30f1-11ed-91b0-22f852edb959.jpg', shape=(), dtype=string)\n",
      "tf.Tensor(b'data/positive/fe575c74-30f0-11ed-91b0-22f852edb959.jpg', shape=(), dtype=string)\n",
      "tf.Tensor(b'data/positive/16c5c426-30f1-11ed-91b0-22f852edb959.jpg', shape=(), dtype=string)\n",
      "tf.Tensor(b'data/positive/174ea732-30f1-11ed-91b0-22f852edb959.jpg', shape=(), dtype=string)\n",
      "tf.Tensor(b'data/positive/139b8984-30f1-11ed-91b0-22f852edb959.jpg', shape=(), dtype=string)\n",
      "tf.Tensor(b'data/positive/21321b08-30f1-11ed-91b0-22f852edb959.jpg', shape=(), dtype=string)\n",
      "tf.Tensor(b'data/positive/fe81c108-30f0-11ed-91b0-22f852edb959.jpg', shape=(), dtype=string)\n",
      "tf.Tensor(b'data/positive/1341d614-30f1-11ed-91b0-22f852edb959.jpg', shape=(), dtype=string)\n",
      "tf.Tensor(b'data/positive/19ea97e4-30f1-11ed-91b0-22f852edb959.jpg', shape=(), dtype=string)\n",
      "tf.Tensor(b'data/positive/15e4302e-30f1-11ed-91b0-22f852edb959.jpg', shape=(), dtype=string)\n",
      "tf.Tensor(b'data/positive/0b1d522e-30f1-11ed-91b0-22f852edb959.jpg', shape=(), dtype=string)\n",
      "tf.Tensor(b'data/positive/14eccd8e-30f1-11ed-91b0-22f852edb959.jpg', shape=(), dtype=string)\n",
      "tf.Tensor(b'data/positive/00b3188c-30f1-11ed-91b0-22f852edb959.jpg', shape=(), dtype=string)\n",
      "tf.Tensor(b'data/positive/0a26ef38-30f1-11ed-91b0-22f852edb959.jpg', shape=(), dtype=string)\n",
      "tf.Tensor(b'data/positive/0a80c03a-30f1-11ed-91b0-22f852edb959.jpg', shape=(), dtype=string)\n",
      "tf.Tensor(b'data/positive/0fefccaa-30f1-11ed-91b0-22f852edb959.jpg', shape=(), dtype=string)\n",
      "tf.Tensor(b'data/positive/010bd77e-30f1-11ed-91b0-22f852edb959.jpg', shape=(), dtype=string)\n",
      "tf.Tensor(b'data/positive/0ed11068-30f1-11ed-91b0-22f852edb959.jpg', shape=(), dtype=string)\n",
      "tf.Tensor(b'data/positive/036cb61e-30f1-11ed-91b0-22f852edb959.jpg', shape=(), dtype=string)\n",
      "tf.Tensor(b'data/positive/1357e8f0-30f1-11ed-91b0-22f852edb959.jpg', shape=(), dtype=string)\n",
      "tf.Tensor(b'data/positive/0c141794-30f1-11ed-91b0-22f852edb959.jpg', shape=(), dtype=string)\n",
      "tf.Tensor(b'data/positive/13de332e-30f1-11ed-91b0-22f852edb959.jpg', shape=(), dtype=string)\n",
      "tf.Tensor(b'data/positive/101c863c-30f1-11ed-91b0-22f852edb959.jpg', shape=(), dtype=string)\n",
      "tf.Tensor(b'data/positive/06235a8e-30f1-11ed-91b0-22f852edb959.jpg', shape=(), dtype=string)\n",
      "tf.Tensor(b'data/positive/207dfc18-30f1-11ed-91b0-22f852edb959.jpg', shape=(), dtype=string)\n",
      "tf.Tensor(b'data/positive/099ea18c-30f1-11ed-91b0-22f852edb959.jpg', shape=(), dtype=string)\n",
      "tf.Tensor(b'data/positive/10fdcf7a-30f1-11ed-91b0-22f852edb959.jpg', shape=(), dtype=string)\n",
      "tf.Tensor(b'data/positive/ffba6976-30f0-11ed-91b0-22f852edb959.jpg', shape=(), dtype=string)\n",
      "tf.Tensor(b'data/positive/1ccc2680-30f1-11ed-91b0-22f852edb959.jpg', shape=(), dtype=string)\n",
      "tf.Tensor(b'data/positive/1f2c623c-30f1-11ed-91b0-22f852edb959.jpg', shape=(), dtype=string)\n",
      "tf.Tensor(b'data/positive/0e762068-30f1-11ed-91b0-22f852edb959.jpg', shape=(), dtype=string)\n",
      "tf.Tensor(b'data/positive/10327942-30f1-11ed-91b0-22f852edb959.jpg', shape=(), dtype=string)\n",
      "tf.Tensor(b'data/positive/1b2066a2-30f1-11ed-91b0-22f852edb959.jpg', shape=(), dtype=string)\n",
      "tf.Tensor(b'data/positive/ff8f0880-30f0-11ed-91b0-22f852edb959.jpg', shape=(), dtype=string)\n",
      "tf.Tensor(b'data/positive/1af31cc4-30f1-11ed-91b0-22f852edb959.jpg', shape=(), dtype=string)\n",
      "tf.Tensor(b'data/positive/13f4b41e-30f1-11ed-91b0-22f852edb959.jpg', shape=(), dtype=string)\n",
      "tf.Tensor(b'data/positive/1385975a-30f1-11ed-91b0-22f852edb959.jpg', shape=(), dtype=string)\n",
      "tf.Tensor(b'data/positive/0891f71c-30f1-11ed-91b0-22f852edb959.jpg', shape=(), dtype=string)\n",
      "tf.Tensor(b'data/positive/1d6b09e4-30f1-11ed-91b0-22f852edb959.jpg', shape=(), dtype=string)\n",
      "tf.Tensor(b'data/positive/0507f632-30f1-11ed-91b0-22f852edb959.jpg', shape=(), dtype=string)\n",
      "tf.Tensor(b'data/positive/121a4078-30f1-11ed-91b0-22f852edb959.jpg', shape=(), dtype=string)\n",
      "tf.Tensor(b'data/positive/01eeae0a-30f1-11ed-91b0-22f852edb959.jpg', shape=(), dtype=string)\n",
      "tf.Tensor(b'data/positive/1736acae-30f1-11ed-91b0-22f852edb959.jpg', shape=(), dtype=string)\n",
      "tf.Tensor(b'data/positive/0a6a3040-30f1-11ed-91b0-22f852edb959.jpg', shape=(), dtype=string)\n",
      "tf.Tensor(b'data/positive/170b0b1c-30f1-11ed-91b0-22f852edb959.jpg', shape=(), dtype=string)\n",
      "tf.Tensor(b'data/positive/1b7abdc8-30f1-11ed-91b0-22f852edb959.jpg', shape=(), dtype=string)\n",
      "tf.Tensor(b'data/positive/140ba5c0-30f1-11ed-91b0-22f852edb959.jpg', shape=(), dtype=string)\n",
      "tf.Tensor(b'data/positive/080fea24-30f1-11ed-91b0-22f852edb959.jpg', shape=(), dtype=string)\n",
      "tf.Tensor(b'data/positive/1141f22c-30f1-11ed-91b0-22f852edb959.jpg', shape=(), dtype=string)\n",
      "tf.Tensor(b'data/positive/0a555a76-30f1-11ed-91b0-22f852edb959.jpg', shape=(), dtype=string)\n",
      "tf.Tensor(b'data/positive/1260a4aa-30f1-11ed-91b0-22f852edb959.jpg', shape=(), dtype=string)\n",
      "tf.Tensor(b'data/positive/1779536a-30f1-11ed-91b0-22f852edb959.jpg', shape=(), dtype=string)\n",
      "tf.Tensor(b'data/positive/112a2d18-30f1-11ed-91b0-22f852edb959.jpg', shape=(), dtype=string)\n",
      "tf.Tensor(b'data/positive/0cf73e5c-30f1-11ed-91b0-22f852edb959.jpg', shape=(), dtype=string)\n",
      "tf.Tensor(b'data/positive/2105bfcc-30f1-11ed-91b0-22f852edb959.jpg', shape=(), dtype=string)\n",
      "tf.Tensor(b'data/positive/1ea5524c-30f1-11ed-91b0-22f852edb959.jpg', shape=(), dtype=string)\n",
      "tf.Tensor(b'data/positive/21487074-30f1-11ed-91b0-22f852edb959.jpg', shape=(), dtype=string)\n",
      "tf.Tensor(b'data/positive/19be130e-30f1-11ed-91b0-22f852edb959.jpg', shape=(), dtype=string)\n",
      "tf.Tensor(b'data/positive/11142ae0-30f1-11ed-91b0-22f852edb959.jpg', shape=(), dtype=string)\n",
      "tf.Tensor(b'data/positive/0e05a55e-30f1-11ed-91b0-22f852edb959.jpg', shape=(), dtype=string)\n",
      "tf.Tensor(b'data/positive/14d565ea-30f1-11ed-91b0-22f852edb959.jpg', shape=(), dtype=string)\n",
      "tf.Tensor(b'data/positive/15a18c38-30f1-11ed-91b0-22f852edb959.jpg', shape=(), dtype=string)\n",
      "tf.Tensor(b'data/positive/18e3ac78-30f1-11ed-91b0-22f852edb959.jpg', shape=(), dtype=string)\n",
      "tf.Tensor(b'data/positive/0be99a0a-30f1-11ed-91b0-22f852edb959.jpg', shape=(), dtype=string)\n",
      "tf.Tensor(b'data/positive/0f4084fc-30f1-11ed-91b0-22f852edb959.jpg', shape=(), dtype=string)\n",
      "tf.Tensor(b'data/positive/1e084fa6-30f1-11ed-91b0-22f852edb959.jpg', shape=(), dtype=string)\n",
      "tf.Tensor(b'data/positive/100563b2-30f1-11ed-91b0-22f852edb959.jpg', shape=(), dtype=string)\n",
      "tf.Tensor(b'data/positive/1a9ade06-30f1-11ed-91b0-22f852edb959.jpg', shape=(), dtype=string)\n",
      "tf.Tensor(b'data/positive/1801d064-30f1-11ed-91b0-22f852edb959.jpg', shape=(), dtype=string)\n",
      "tf.Tensor(b'data/positive/0469dbb4-30f1-11ed-91b0-22f852edb959.jpg', shape=(), dtype=string)\n",
      "tf.Tensor(b'data/positive/039958ae-30f1-11ed-91b0-22f852edb959.jpg', shape=(), dtype=string)\n",
      "tf.Tensor(b'data/positive/151a9458-30f1-11ed-91b0-22f852edb959.jpg', shape=(), dtype=string)\n",
      "tf.Tensor(b'data/positive/00df3412-30f1-11ed-91b0-22f852edb959.jpg', shape=(), dtype=string)\n",
      "tf.Tensor(b'data/positive/083c0870-30f1-11ed-91b0-22f852edb959.jpg', shape=(), dtype=string)\n",
      "tf.Tensor(b'data/positive/1ce489aa-30f1-11ed-91b0-22f852edb959.jpg', shape=(), dtype=string)\n",
      "tf.Tensor(b'data/positive/0f13e8f2-30f1-11ed-91b0-22f852edb959.jpg', shape=(), dtype=string)\n",
      "tf.Tensor(b'data/positive/1ebb482c-30f1-11ed-91b0-22f852edb959.jpg', shape=(), dtype=string)\n",
      "tf.Tensor(b'data/positive/feafbe82-30f0-11ed-91b0-22f852edb959.jpg', shape=(), dtype=string)\n",
      "tf.Tensor(b'data/positive/04d94756-30f1-11ed-91b0-22f852edb959.jpg', shape=(), dtype=string)\n",
      "tf.Tensor(b'data/positive/05345b32-30f1-11ed-91b0-22f852edb959.jpg', shape=(), dtype=string)\n",
      "tf.Tensor(b'data/positive/01c0a456-30f1-11ed-91b0-22f852edb959.jpg', shape=(), dtype=string)\n",
      "tf.Tensor(b'data/positive/027528d6-30f1-11ed-91b0-22f852edb959.jpg', shape=(), dtype=string)\n",
      "tf.Tensor(b'data/positive/03dd6602-30f1-11ed-91b0-22f852edb959.jpg', shape=(), dtype=string)\n",
      "tf.Tensor(b'data/positive/07e32eda-30f1-11ed-91b0-22f852edb959.jpg', shape=(), dtype=string)\n",
      "tf.Tensor(b'data/positive/1871f2fe-30f1-11ed-91b0-22f852edb959.jpg', shape=(), dtype=string)\n",
      "tf.Tensor(b'data/positive/060d4ac8-30f1-11ed-91b0-22f852edb959.jpg', shape=(), dtype=string)\n",
      "tf.Tensor(b'data/positive/075d74ac-30f1-11ed-91b0-22f852edb959.jpg', shape=(), dtype=string)\n",
      "tf.Tensor(b'data/positive/04373a06-30f1-11ed-91b0-22f852edb959.jpg', shape=(), dtype=string)\n",
      "tf.Tensor(b'data/positive/0cca1bc0-30f1-11ed-91b0-22f852edb959.jpg', shape=(), dtype=string)\n",
      "tf.Tensor(b'data/positive/1b4ebd0e-30f1-11ed-91b0-22f852edb959.jpg', shape=(), dtype=string)\n",
      "tf.Tensor(b'data/positive/1205857a-30f1-11ed-91b0-22f852edb959.jpg', shape=(), dtype=string)\n",
      "tf.Tensor(b'data/positive/0972a0be-30f1-11ed-91b0-22f852edb959.jpg', shape=(), dtype=string)\n",
      "tf.Tensor(b'data/positive/0c2c762c-30f1-11ed-91b0-22f852edb959.jpg', shape=(), dtype=string)\n",
      "tf.Tensor(b'data/positive/06916ea2-30f1-11ed-91b0-22f852edb959.jpg', shape=(), dtype=string)\n",
      "tf.Tensor(b'data/positive/15cd54da-30f1-11ed-91b0-22f852edb959.jpg', shape=(), dtype=string)\n",
      "tf.Tensor(b'data/positive/1656c59e-30f1-11ed-91b0-22f852edb959.jpg', shape=(), dtype=string)\n",
      "tf.Tensor(b'data/positive/1888bf70-30f1-11ed-91b0-22f852edb959.jpg', shape=(), dtype=string)\n",
      "tf.Tensor(b'data/positive/0defde18-30f1-11ed-91b0-22f852edb959.jpg', shape=(), dtype=string)\n",
      "tf.Tensor(b'data/positive/0c9d5644-30f1-11ed-91b0-22f852edb959.jpg', shape=(), dtype=string)\n",
      "tf.Tensor(b'data/positive/189f0c80-30f1-11ed-91b0-22f852edb959.jpg', shape=(), dtype=string)\n",
      "tf.Tensor(b'data/positive/0d0d4666-30f1-11ed-91b0-22f852edb959.jpg', shape=(), dtype=string)\n",
      "tf.Tensor(b'data/positive/0d94c6e0-30f1-11ed-91b0-22f852edb959.jpg', shape=(), dtype=string)\n",
      "tf.Tensor(b'data/positive/11ef77b2-30f1-11ed-91b0-22f852edb959.jpg', shape=(), dtype=string)\n",
      "tf.Tensor(b'data/positive/059ec760-30f1-11ed-91b0-22f852edb959.jpg', shape=(), dtype=string)\n",
      "tf.Tensor(b'data/positive/025da936-30f1-11ed-91b0-22f852edb959.jpg', shape=(), dtype=string)\n",
      "tf.Tensor(b'data/positive/163e831c-30f1-11ed-91b0-22f852edb959.jpg', shape=(), dtype=string)\n",
      "tf.Tensor(b'data/positive/05cd1fde-30f1-11ed-91b0-22f852edb959.jpg', shape=(), dtype=string)\n",
      "tf.Tensor(b'data/positive/06ea7394-30f1-11ed-91b0-22f852edb959.jpg', shape=(), dtype=string)\n",
      "tf.Tensor(b'data/positive/17bf0fa4-30f1-11ed-91b0-22f852edb959.jpg', shape=(), dtype=string)\n",
      "tf.Tensor(b'data/positive/0cb2ec84-30f1-11ed-91b0-22f852edb959.jpg', shape=(), dtype=string)\n",
      "tf.Tensor(b'data/positive/1cfa9f56-30f1-11ed-91b0-22f852edb959.jpg', shape=(), dtype=string)\n",
      "tf.Tensor(b'data/positive/020477f8-30f1-11ed-91b0-22f852edb959.jpg', shape=(), dtype=string)\n",
      "tf.Tensor(b'data/positive/1c734038-30f1-11ed-91b0-22f852edb959.jpg', shape=(), dtype=string)\n",
      "tf.Tensor(b'data/positive/0b61e920-30f1-11ed-91b0-22f852edb959.jpg', shape=(), dtype=string)\n",
      "tf.Tensor(b'data/positive/1e1c189c-30f1-11ed-91b0-22f852edb959.jpg', shape=(), dtype=string)\n",
      "tf.Tensor(b'data/positive/146647aa-30f1-11ed-91b0-22f852edb959.jpg', shape=(), dtype=string)\n",
      "tf.Tensor(b'data/positive/1fb33c3a-30f1-11ed-91b0-22f852edb959.jpg', shape=(), dtype=string)\n",
      "tf.Tensor(b'data/positive/0481bf54-30f1-11ed-91b0-22f852edb959.jpg', shape=(), dtype=string)\n",
      "tf.Tensor(b'data/positive/07734e08-30f1-11ed-91b0-22f852edb959.jpg', shape=(), dtype=string)\n",
      "tf.Tensor(b'data/positive/0aad650e-30f1-11ed-91b0-22f852edb959.jpg', shape=(), dtype=string)\n",
      "tf.Tensor(b'data/positive/04f16f34-30f1-11ed-91b0-22f852edb959.jpg', shape=(), dtype=string)\n",
      "tf.Tensor(b'data/positive/fe98533c-30f0-11ed-91b0-22f852edb959.jpg', shape=(), dtype=string)\n",
      "tf.Tensor(b'data/positive/08a77baa-30f1-11ed-91b0-22f852edb959.jpg', shape=(), dtype=string)\n",
      "tf.Tensor(b'data/positive/1844d76a-30f1-11ed-91b0-22f852edb959.jpg', shape=(), dtype=string)\n",
      "tf.Tensor(b'data/positive/1b92d4f8-30f1-11ed-91b0-22f852edb959.jpg', shape=(), dtype=string)\n",
      "tf.Tensor(b'data/positive/19620dc0-30f1-11ed-91b0-22f852edb959.jpg', shape=(), dtype=string)\n",
      "tf.Tensor(b'data/positive/ffe76fca-30f0-11ed-91b0-22f852edb959.jpg', shape=(), dtype=string)\n",
      "tf.Tensor(b'data/positive/07cceb66-30f1-11ed-91b0-22f852edb959.jpg', shape=(), dtype=string)\n",
      "tf.Tensor(b'data/positive/ff348202-30f0-11ed-91b0-22f852edb959.jpg', shape=(), dtype=string)\n",
      "tf.Tensor(b'data/positive/20d8e556-30f1-11ed-91b0-22f852edb959.jpg', shape=(), dtype=string)\n",
      "tf.Tensor(b'data/positive/0fdb9a1e-30f1-11ed-91b0-22f852edb959.jpg', shape=(), dtype=string)\n",
      "tf.Tensor(b'data/positive/08d5580e-30f1-11ed-91b0-22f852edb959.jpg', shape=(), dtype=string)\n",
      "tf.Tensor(b'data/positive/0dc314d2-30f1-11ed-91b0-22f852edb959.jpg', shape=(), dtype=string)\n",
      "tf.Tensor(b'data/positive/1f16f870-30f1-11ed-91b0-22f852edb959.jpg', shape=(), dtype=string)\n",
      "tf.Tensor(b'data/positive/0b77e766-30f1-11ed-91b0-22f852edb959.jpg', shape=(), dtype=string)\n",
      "tf.Tensor(b'data/positive/0701ec04-30f1-11ed-91b0-22f852edb959.jpg', shape=(), dtype=string)\n",
      "tf.Tensor(b'data/positive/20ee5274-30f1-11ed-91b0-22f852edb959.jpg', shape=(), dtype=string)\n",
      "tf.Tensor(b'data/positive/0bd2741a-30f1-11ed-91b0-22f852edb959.jpg', shape=(), dtype=string)\n",
      "tf.Tensor(b'data/positive/1b37722a-30f1-11ed-91b0-22f852edb959.jpg', shape=(), dtype=string)\n",
      "tf.Tensor(b'data/positive/0d2411ca-30f1-11ed-91b0-22f852edb959.jpg', shape=(), dtype=string)\n",
      "tf.Tensor(b'data/positive/09ccd656-30f1-11ed-91b0-22f852edb959.jpg', shape=(), dtype=string)\n",
      "tf.Tensor(b'data/positive/19a7cfc2-30f1-11ed-91b0-22f852edb959.jpg', shape=(), dtype=string)\n",
      "tf.Tensor(b'data/positive/1b09b452-30f1-11ed-91b0-22f852edb959.jpg', shape=(), dtype=string)\n",
      "tf.Tensor(b'data/positive/16dcda1c-30f1-11ed-91b0-22f852edb959.jpg', shape=(), dtype=string)\n",
      "tf.Tensor(b'data/positive/1a291686-30f1-11ed-91b0-22f852edb959.jpg', shape=(), dtype=string)\n",
      "tf.Tensor(b'data/positive/05f700b0-30f1-11ed-91b0-22f852edb959.jpg', shape=(), dtype=string)\n",
      "tf.Tensor(b'data/positive/02306d7c-30f1-11ed-91b0-22f852edb959.jpg', shape=(), dtype=string)\n",
      "tf.Tensor(b'data/positive/181800aa-30f1-11ed-91b0-22f852edb959.jpg', shape=(), dtype=string)\n",
      "tf.Tensor(b'data/positive/fedc4330-30f0-11ed-91b0-22f852edb959.jpg', shape=(), dtype=string)\n",
      "tf.Tensor(b'data/positive/1fcb4ec4-30f1-11ed-91b0-22f852edb959.jpg', shape=(), dtype=string)\n",
      "tf.Tensor(b'data/positive/033f011a-30f1-11ed-91b0-22f852edb959.jpg', shape=(), dtype=string)\n",
      "tf.Tensor(b'data/positive/1dae0cf8-30f1-11ed-91b0-22f852edb959.jpg', shape=(), dtype=string)\n",
      "tf.Tensor(b'data/positive/054a0ebe-30f1-11ed-91b0-22f852edb959.jpg', shape=(), dtype=string)\n",
      "tf.Tensor(b'data/positive/11573c0e-30f1-11ed-91b0-22f852edb959.jpg', shape=(), dtype=string)\n",
      "tf.Tensor(b'data/positive/14a96a94-30f1-11ed-91b0-22f852edb959.jpg', shape=(), dtype=string)\n",
      "tf.Tensor(b'data/positive/1a6c4186-30f1-11ed-91b0-22f852edb959.jpg', shape=(), dtype=string)\n",
      "tf.Tensor(b'data/positive/0ea36488-30f1-11ed-91b0-22f852edb959.jpg', shape=(), dtype=string)\n",
      "tf.Tensor(b'data/positive/1a55afac-30f1-11ed-91b0-22f852edb959.jpg', shape=(), dtype=string)\n",
      "tf.Tensor(b'data/positive/1e625b90-30f1-11ed-91b0-22f852edb959.jpg', shape=(), dtype=string)\n",
      "tf.Tensor(b'data/positive/0f6e2402-30f1-11ed-91b0-22f852edb959.jpg', shape=(), dtype=string)\n",
      "tf.Tensor(b'data/positive/10e745d4-30f1-11ed-91b0-22f852edb959.jpg', shape=(), dtype=string)\n",
      "tf.Tensor(b'data/positive/02cdb8e8-30f1-11ed-91b0-22f852edb959.jpg', shape=(), dtype=string)\n",
      "tf.Tensor(b'data/positive/18b4e014-30f1-11ed-91b0-22f852edb959.jpg', shape=(), dtype=string)\n",
      "tf.Tensor(b'data/positive/07b57332-30f1-11ed-91b0-22f852edb959.jpg', shape=(), dtype=string)\n",
      "tf.Tensor(b'data/positive/0bffda22-30f1-11ed-91b0-22f852edb959.jpg', shape=(), dtype=string)\n",
      "tf.Tensor(b'data/positive/0daab64e-30f1-11ed-91b0-22f852edb959.jpg', shape=(), dtype=string)\n",
      "tf.Tensor(b'data/positive/0bbbde80-30f1-11ed-91b0-22f852edb959.jpg', shape=(), dtype=string)\n",
      "tf.Tensor(b'data/positive/091a044a-30f1-11ed-91b0-22f852edb959.jpg', shape=(), dtype=string)\n",
      "tf.Tensor(b'data/positive/051d410e-30f1-11ed-91b0-22f852edb959.jpg', shape=(), dtype=string)\n",
      "tf.Tensor(b'data/positive/0f571dac-30f1-11ed-91b0-22f852edb959.jpg', shape=(), dtype=string)\n",
      "tf.Tensor(b'data/positive/074528de-30f1-11ed-91b0-22f852edb959.jpg', shape=(), dtype=string)\n",
      "tf.Tensor(b'data/positive/09303e86-30f1-11ed-91b0-22f852edb959.jpg', shape=(), dtype=string)\n",
      "tf.Tensor(b'data/positive/00418438-30f1-11ed-91b0-22f852edb959.jpg', shape=(), dtype=string)\n",
      "tf.Tensor(b'data/positive/00f5da14-30f1-11ed-91b0-22f852edb959.jpg', shape=(), dtype=string)\n",
      "tf.Tensor(b'data/positive/211b6674-30f1-11ed-91b0-22f852edb959.jpg', shape=(), dtype=string)\n",
      "tf.Tensor(b'data/positive/056006f6-30f1-11ed-91b0-22f852edb959.jpg', shape=(), dtype=string)\n",
      "tf.Tensor(b'data/positive/0328e83a-30f1-11ed-91b0-22f852edb959.jpg', shape=(), dtype=string)\n",
      "tf.Tensor(b'data/positive/1ff7b266-30f1-11ed-91b0-22f852edb959.jpg', shape=(), dtype=string)\n",
      "tf.Tensor(b'data/positive/1dda9002-30f1-11ed-91b0-22f852edb959.jpg', shape=(), dtype=string)\n",
      "tf.Tensor(b'data/positive/13b211c2-30f1-11ed-91b0-22f852edb959.jpg', shape=(), dtype=string)\n",
      "tf.Tensor(b'data/positive/01d6c13c-30f1-11ed-91b0-22f852edb959.jpg', shape=(), dtype=string)\n",
      "tf.Tensor(b'data/positive/03c7caae-30f1-11ed-91b0-22f852edb959.jpg', shape=(), dtype=string)\n",
      "tf.Tensor(b'data/positive/0b4c9962-30f1-11ed-91b0-22f852edb959.jpg', shape=(), dtype=string)\n",
      "tf.Tensor(b'data/positive/0ac55498-30f1-11ed-91b0-22f852edb959.jpg', shape=(), dtype=string)\n",
      "tf.Tensor(b'data/positive/1efe8b1e-30f1-11ed-91b0-22f852edb959.jpg', shape=(), dtype=string)\n",
      "tf.Tensor(b'data/positive/017d9bde-30f1-11ed-91b0-22f852edb959.jpg', shape=(), dtype=string)\n",
      "tf.Tensor(b'data/positive/079f2a50-30f1-11ed-91b0-22f852edb959.jpg', shape=(), dtype=string)\n",
      "tf.Tensor(b'data/positive/03f42f40-30f1-11ed-91b0-22f852edb959.jpg', shape=(), dtype=string)\n",
      "tf.Tensor(b'data/positive/013928dc-30f1-11ed-91b0-22f852edb959.jpg', shape=(), dtype=string)\n",
      "tf.Tensor(b'data/positive/17a7b11a-30f1-11ed-91b0-22f852edb959.jpg', shape=(), dtype=string)\n",
      "tf.Tensor(b'data/positive/1ed1734a-30f1-11ed-91b0-22f852edb959.jpg', shape=(), dtype=string)\n",
      "tf.Tensor(b'data/positive/15fb1fa0-30f1-11ed-91b0-22f852edb959.jpg', shape=(), dtype=string)\n",
      "tf.Tensor(b'data/positive/058902f4-30f1-11ed-91b0-22f852edb959.jpg', shape=(), dtype=string)\n",
      "tf.Tensor(b'data/positive/09f9ec2c-30f1-11ed-91b0-22f852edb959.jpg', shape=(), dtype=string)\n",
      "tf.Tensor(b'data/positive/0ee6b850-30f1-11ed-91b0-22f852edb959.jpg', shape=(), dtype=string)\n",
      "tf.Tensor(b'data/positive/0e1b7730-30f1-11ed-91b0-22f852edb959.jpg', shape=(), dtype=string)\n",
      "tf.Tensor(b'data/positive/0fc7919a-30f1-11ed-91b0-22f852edb959.jpg', shape=(), dtype=string)\n",
      "tf.Tensor(b'data/positive/0d684886-30f1-11ed-91b0-22f852edb959.jpg', shape=(), dtype=string)\n",
      "tf.Tensor(b'data/positive/07899d3e-30f1-11ed-91b0-22f852edb959.jpg', shape=(), dtype=string)\n",
      "tf.Tensor(b'data/positive/ffd0c810-30f0-11ed-91b0-22f852edb959.jpg', shape=(), dtype=string)\n",
      "tf.Tensor(b'data/positive/0f9ab1e8-30f1-11ed-91b0-22f852edb959.jpg', shape=(), dtype=string)\n",
      "tf.Tensor(b'data/positive/17e98fc2-30f1-11ed-91b0-22f852edb959.jpg', shape=(), dtype=string)\n",
      "tf.Tensor(b'data/positive/02e50386-30f1-11ed-91b0-22f852edb959.jpg', shape=(), dtype=string)\n",
      "tf.Tensor(b'data/positive/1990edfc-30f1-11ed-91b0-22f852edb959.jpg', shape=(), dtype=string)\n",
      "tf.Tensor(b'data/positive/15b83eec-30f1-11ed-91b0-22f852edb959.jpg', shape=(), dtype=string)\n",
      "tf.Tensor(b'data/positive/205009de-30f1-11ed-91b0-22f852edb959.jpg', shape=(), dtype=string)\n",
      "tf.Tensor(b'data/positive/04c2933a-30f1-11ed-91b0-22f852edb959.jpg', shape=(), dtype=string)\n",
      "tf.Tensor(b'data/positive/1df27370-30f1-11ed-91b0-22f852edb959.jpg', shape=(), dtype=string)\n",
      "tf.Tensor(b'data/positive/16af162c-30f1-11ed-91b0-22f852edb959.jpg', shape=(), dtype=string)\n",
      "tf.Tensor(b'data/positive/124a14ce-30f1-11ed-91b0-22f852edb959.jpg', shape=(), dtype=string)\n",
      "tf.Tensor(b'data/positive/1422735e-30f1-11ed-91b0-22f852edb959.jpg', shape=(), dtype=string)\n"
     ]
    }
   ],
   "source": [
    "for p in positive:\n",
    "    print(p)"
   ]
  },
  {
   "cell_type": "markdown",
   "id": "9f603801-c4b1-4e1d-9fe8-9ced2c0ef7b6",
   "metadata": {},
   "source": [
    "## 3.2 Preprocessing - Scale and Resize"
   ]
  },
  {
   "cell_type": "code",
   "execution_count": 15,
   "id": "ba5b217c-bbf1-4186-a0d6-9ee38b436eb5",
   "metadata": {},
   "outputs": [],
   "source": [
    "def preprocess(file_path):\n",
    "    \n",
    "    # Read in image from file path\n",
    "    byte_img = tf.io.read_file(file_path)\n",
    "    # Load in the image \n",
    "    img = tf.io.decode_jpeg(byte_img)\n",
    "    \n",
    "    # Preprocessing steps - resizing the image to be 100x100x3\n",
    "    img = tf.image.resize(img, (100,100))\n",
    "    # Scale image to be between 0 and 1 \n",
    "    img = img / 255.0\n",
    "    \n",
    "    # Return image\n",
    "    return img"
   ]
  },
  {
   "cell_type": "code",
   "execution_count": 16,
   "id": "2c7e1c7a-5b5a-4552-bbd0-14415196360d",
   "metadata": {},
   "outputs": [],
   "source": [
    "sample_img=preprocess(b'data/positive/03f42f40-30f1-11ed-91b0-22f852edb959.jpg')"
   ]
  },
  {
   "cell_type": "code",
   "execution_count": 17,
   "id": "0dba9746-dc93-4107-b20e-acd360562a4e",
   "metadata": {},
   "outputs": [
    {
     "data": {
      "text/plain": [
       "0.95"
      ]
     },
     "execution_count": 17,
     "metadata": {},
     "output_type": "execute_result"
    }
   ],
   "source": [
    "sample_img.numpy().max()"
   ]
  },
  {
   "cell_type": "code",
   "execution_count": 18,
   "id": "0da43c93-53b5-4dbd-8fe7-68500b2d869a",
   "metadata": {},
   "outputs": [
    {
     "data": {
      "text/plain": [
       "<matplotlib.image.AxesImage at 0x7fc4683ac950>"
      ]
     },
     "execution_count": 18,
     "metadata": {},
     "output_type": "execute_result"
    },
    {
     "data": {
      "image/png": "[encoded data removed]",
      "text/plain": [
       "<Figure size 640x480 with 1 Axes>"
      ]
     },
     "metadata": {},
     "output_type": "display_data"
    }
   ],
   "source": [
    "plt.imshow(sample_img)"
   ]
  },
  {
   "cell_type": "markdown",
   "id": "55688a2c-10db-45ab-882d-df31fbe0888d",
   "metadata": {},
   "source": [
    "## 3.3 Create Labelled Dataset"
   ]
  },
  {
   "cell_type": "code",
   "execution_count": 19,
   "id": "05adf980-7666-4133-a47b-10997acf81be",
   "metadata": {},
   "outputs": [],
   "source": [
    "# (anchor, positive) => 1,1,1,1,1\n",
    "# (anchor, negative) => 0,0,0,0,0\n",
    "\n",
    "positives = tf.data.Dataset.zip((anchor, positive, tf.data.Dataset.from_tensor_slices(tf.ones(400))))\n",
    "negatives = tf.data.Dataset.zip((anchor, negative, tf.data.Dataset.from_tensor_slices(tf.zeros(400))))\n",
    "data = positives.concatenate(negatives)"
   ]
  },
  {
   "cell_type": "code",
   "execution_count": 20,
   "id": "aee752f7-3f69-4da8-9444-6a2968a3d61d",
   "metadata": {},
   "outputs": [],
   "source": [
    "example = None\n",
    "\n",
    "for d in data:\n",
    "    if example==None:\n",
    "        example=d\n",
    "    else:\n",
    "        break"
   ]
  },
  {
   "cell_type": "markdown",
   "id": "b7607a9e-3a9b-4393-a1b0-64bc94ab3485",
   "metadata": {},
   "source": [
    "## 3.4 Build Train and Test Partition"
   ]
  },
  {
   "cell_type": "code",
   "execution_count": 21,
   "id": "1e9cadcc-f8b9-403c-bfac-24d1b662ab2b",
   "metadata": {},
   "outputs": [],
   "source": [
    "def preprocess_twin(input_img, validation_img, label):\n",
    "    return(preprocess(input_img), preprocess(validation_img), label)"
   ]
  },
  {
   "cell_type": "code",
   "execution_count": 22,
   "id": "5ed3ff1c-5e0d-448f-9752-9be6bc8cebe2",
   "metadata": {},
   "outputs": [],
   "source": [
    "result = preprocess_twin(*example)"
   ]
  },
  {
   "cell_type": "code",
   "execution_count": 23,
   "id": "5ad9ca9d-a42a-42a6-acc4-a99bc1a056e5",
   "metadata": {},
   "outputs": [
    {
     "data": {
      "text/plain": [
       "<matplotlib.image.AxesImage at 0x7fc418044290>"
      ]
     },
     "execution_count": 23,
     "metadata": {},
     "output_type": "execute_result"
    },
    {
     "data": {
      "image/png": "[encoded data removed]",
      "text/plain": [
       "<Figure size 640x480 with 1 Axes>"
      ]
     },
     "metadata": {},
     "output_type": "display_data"
    }
   ],
   "source": [
    "plt.imshow(result[1])"
   ]
  },
  {
   "cell_type": "code",
   "execution_count": 24,
   "id": "39289ced-5ea5-4b69-8510-978715a7c00c",
   "metadata": {},
   "outputs": [],
   "source": [
    "# Build dataloader pipeline\n",
    "data = data.map(preprocess_twin)\n",
    "data = data.cache()\n",
    "data = data.shuffle(buffer_size=1024)"
   ]
  },
  {
   "cell_type": "code",
   "execution_count": 25,
   "id": "3534d3ed-1328-4c82-8b7b-f31516cb3e1f",
   "metadata": {},
   "outputs": [
    {
     "name": "stdout",
     "output_type": "stream",
     "text": [
      "800\n"
     ]
    }
   ],
   "source": [
    "c=0\n",
    "for d in data:\n",
    "    c+=1\n",
    "\n",
    "print(c)"
   ]
  },
  {
   "cell_type": "code",
   "execution_count": 26,
   "id": "fb4212c5-7cd2-4822-b7ca-3481d977b96a",
   "metadata": {},
   "outputs": [],
   "source": [
    "# Training partition\n",
    "train_data = data.take(round(800*.7))\n",
    "train_data = train_data.batch(16)\n",
    "train_data = train_data.prefetch(8)"
   ]
  },
  {
   "cell_type": "code",
   "execution_count": 27,
   "id": "9c28be35-0b49-4308-945c-cca1862ea3a9",
   "metadata": {},
   "outputs": [
    {
     "name": "stdout",
     "output_type": "stream",
     "text": [
      "35\n"
     ]
    }
   ],
   "source": [
    "counter=0\n",
    "for t in train_data:\n",
    "    counter+=1\n",
    "print(counter)"
   ]
  },
  {
   "cell_type": "code",
   "execution_count": 28,
   "id": "674273bb-f28b-4794-8dac-56e3d2a61fee",
   "metadata": {},
   "outputs": [
    {
     "name": "stdout",
     "output_type": "stream",
     "text": [
      "15\n"
     ]
    }
   ],
   "source": [
    "# Testing partition\n",
    "test_data = data.skip(round(800*.7))\n",
    "test_data = test_data.take(round(800*.3))\n",
    "test_data = test_data.batch(16)\n",
    "test_data = test_data.prefetch(8)\n",
    "\n",
    "counter=0\n",
    "for t in test_data:\n",
    "    counter+=1\n",
    "print(counter)"
   ]
  },
  {
   "cell_type": "markdown",
   "id": "9111fc4e-57a7-45bb-ae0c-93e348b3d587",
   "metadata": {},
   "source": [
    "# 4. Model Engineering"
   ]
  },
  {
   "cell_type": "markdown",
   "id": "933e0aee-dc46-48da-884e-07d6e2652b60",
   "metadata": {},
   "source": [
    "## 4.1 Build Embedding Layer"
   ]
  },
  {
   "cell_type": "code",
   "execution_count": 29,
   "id": "17e25ff5-c45c-4c37-8077-db410ec27309",
   "metadata": {},
   "outputs": [],
   "source": [
    "inp = Input(shape=(100,100,3), name='input_image')"
   ]
  },
  {
   "cell_type": "code",
   "execution_count": 30,
   "id": "22036d5b-2461-40bb-bec0-5e67de27da9a",
   "metadata": {},
   "outputs": [],
   "source": [
    "c1 = Conv2D(64, (10,10), activation='relu')(inp)"
   ]
  },
  {
   "cell_type": "code",
   "execution_count": 31,
   "id": "08dc265e-0ce8-4c6d-8e90-557c01690185",
   "metadata": {},
   "outputs": [],
   "source": [
    "m1 = MaxPooling2D(64, (2,2), padding='same')(c1)"
   ]
  },
  {
   "cell_type": "code",
   "execution_count": 32,
   "id": "41ebf51e-bbf5-4c08-8705-9708fa1ded41",
   "metadata": {},
   "outputs": [],
   "source": [
    "c2 = Conv2D(128, (7,7), activation='relu')(m1)\n",
    "m2 = MaxPooling2D(64, (2,2), padding='same')(c2)"
   ]
  },
  {
   "cell_type": "code",
   "execution_count": 33,
   "id": "f2c7586f-850b-4346-99bb-91eccd2d2337",
   "metadata": {},
   "outputs": [],
   "source": [
    "c3 = Conv2D(128, (4,4), activation='relu')(m2)\n",
    "m3 = MaxPooling2D(64, (2,2), padding='same')(c3)"
   ]
  },
  {
   "cell_type": "code",
   "execution_count": 34,
   "id": "9b1074b2-04c2-4f60-b272-81b1ac3cbfa5",
   "metadata": {},
   "outputs": [],
   "source": [
    "c4 = Conv2D(256, (4,4), activation='relu')(m3)\n",
    "f1 = Flatten()(c4)\n",
    "d1 = Dense(4096, activation='sigmoid')(f1)"
   ]
  },
  {
   "cell_type": "code",
   "execution_count": 35,
   "id": "33a3f61c-4633-4b85-bec9-9166aeec0c10",
   "metadata": {},
   "outputs": [],
   "source": [
    "mod = Model(inputs=[inp], outputs=[d1], name='embedding')"
   ]
  },
  {
   "cell_type": "code",
   "execution_count": 36,
   "id": "769a7a9e-2164-4a57-a55b-6df30a053c4f",
   "metadata": {},
   "outputs": [
    {
     "name": "stdout",
     "output_type": "stream",
     "text": [
      "Model: \"embedding\"\n",
      "_________________________________________________________________\n",
      "Layer (type)                 Output Shape              Param #   \n",
      "=================================================================\n",
      "input_image (InputLayer)     [(None, 100, 100, 3)]     0         \n",
      "_________________________________________________________________\n",
      "conv2d (Conv2D)              (None, 91, 91, 64)        19264     \n",
      "_________________________________________________________________\n",
      "max_pooling2d (MaxPooling2D) (None, 46, 46, 64)        0         \n",
      "_________________________________________________________________\n",
      "conv2d_1 (Conv2D)            (None, 40, 40, 128)       401536    \n",
      "_________________________________________________________________\n",
      "max_pooling2d_1 (MaxPooling2 (None, 20, 20, 128)       0         \n",
      "_________________________________________________________________\n",
      "conv2d_2 (Conv2D)            (None, 17, 17, 128)       262272    \n",
      "_________________________________________________________________\n",
      "max_pooling2d_2 (MaxPooling2 (None, 9, 9, 128)         0         \n",
      "_________________________________________________________________\n",
      "conv2d_3 (Conv2D)            (None, 6, 6, 256)         524544    \n",
      "_________________________________________________________________\n",
      "flatten (Flatten)            (None, 9216)              0         \n",
      "_________________________________________________________________\n",
      "dense (Dense)                (None, 4096)              37752832  \n",
      "=================================================================\n",
      "Total params: 38,960,448\n",
      "Trainable params: 38,960,448\n",
      "Non-trainable params: 0\n",
      "_________________________________________________________________\n"
     ]
    }
   ],
   "source": [
    "mod.summary()"
   ]
  },
  {
   "cell_type": "code",
   "execution_count": 37,
   "id": "44ea422a-2e26-4bb8-9222-4e39fa2b2233",
   "metadata": {},
   "outputs": [],
   "source": [
    "#summarise in one function\n",
    "\n",
    "def make_embedding(): \n",
    "    inp = Input(shape=(100,100,3), name='input_image')\n",
    "    \n",
    "    # First block\n",
    "    c1 = Conv2D(64, (10,10), activation='relu')(inp)\n",
    "    m1 = MaxPooling2D(64, (2,2), padding='same')(c1)\n",
    "    \n",
    "    # Second block\n",
    "    c2 = Conv2D(128, (7,7), activation='relu')(m1)\n",
    "    m2 = MaxPooling2D(64, (2,2), padding='same')(c2)\n",
    "    \n",
    "    # Third block \n",
    "    c3 = Conv2D(128, (4,4), activation='relu')(m2)\n",
    "    m3 = MaxPooling2D(64, (2,2), padding='same')(c3)\n",
    "    \n",
    "    # Final embedding block\n",
    "    c4 = Conv2D(256, (4,4), activation='relu')(m3)\n",
    "    f1 = Flatten()(c4)\n",
    "    d1 = Dense(4096, activation='sigmoid')(f1)\n",
    "    \n",
    "    \n",
    "    return Model(inputs=[inp], outputs=[d1], name='embedding')"
   ]
  },
  {
   "cell_type": "code",
   "execution_count": 38,
   "id": "8b4effe3-d74f-4434-9fa1-0b69bb48e4e3",
   "metadata": {},
   "outputs": [],
   "source": [
    "embedding = make_embedding()"
   ]
  },
  {
   "cell_type": "code",
   "execution_count": 39,
   "id": "e429bc4c-0cd7-4e2c-a0c7-7c0aae3560cd",
   "metadata": {},
   "outputs": [
    {
     "name": "stdout",
     "output_type": "stream",
     "text": [
      "Model: \"embedding\"\n",
      "_________________________________________________________________\n",
      "Layer (type)                 Output Shape              Param #   \n",
      "=================================================================\n",
      "input_image (InputLayer)     [(None, 100, 100, 3)]     0         \n",
      "_________________________________________________________________\n",
      "conv2d_4 (Conv2D)            (None, 91, 91, 64)        19264     \n",
      "_________________________________________________________________\n",
      "max_pooling2d_3 (MaxPooling2 (None, 46, 46, 64)        0         \n",
      "_________________________________________________________________\n",
      "conv2d_5 (Conv2D)            (None, 40, 40, 128)       401536    \n",
      "_________________________________________________________________\n",
      "max_pooling2d_4 (MaxPooling2 (None, 20, 20, 128)       0         \n",
      "_________________________________________________________________\n",
      "conv2d_6 (Conv2D)            (None, 17, 17, 128)       262272    \n",
      "_________________________________________________________________\n",
      "max_pooling2d_5 (MaxPooling2 (None, 9, 9, 128)         0         \n",
      "_________________________________________________________________\n",
      "conv2d_7 (Conv2D)            (None, 6, 6, 256)         524544    \n",
      "_________________________________________________________________\n",
      "flatten_1 (Flatten)          (None, 9216)              0         \n",
      "_________________________________________________________________\n",
      "dense_1 (Dense)              (None, 4096)              37752832  \n",
      "=================================================================\n",
      "Total params: 38,960,448\n",
      "Trainable params: 38,960,448\n",
      "Non-trainable params: 0\n",
      "_________________________________________________________________\n"
     ]
    }
   ],
   "source": [
    "embedding.summary()"
   ]
  },
  {
   "cell_type": "markdown",
   "id": "3e3c51fe-bf04-41a4-aa76-ccccb88c4189",
   "metadata": {
    "tags": []
   },
   "source": [
    "## 4.2 Build Distance Layer"
   ]
  },
  {
   "cell_type": "code",
   "execution_count": 40,
   "id": "5eba1c3e-52c2-45b8-8b08-b3f5789845ae",
   "metadata": {},
   "outputs": [],
   "source": [
    "# Siamese L1 Distance class\n",
    "class L1Dist(Layer):\n",
    "    \n",
    "    # Init method - inheritance\n",
    "    def __init__(self, **kwargs):\n",
    "        super().__init__()\n",
    "       \n",
    "    # Magic happens here - similarity calculation\n",
    "    def call(self, input_embedding, validation_embedding):\n",
    "        return tf.math.abs(input_embedding - validation_embedding)"
   ]
  },
  {
   "cell_type": "code",
   "execution_count": 41,
   "id": "9be9e45b-e7d9-439b-8412-69448feb292c",
   "metadata": {},
   "outputs": [],
   "source": [
    "l1 = L1Dist()"
   ]
  },
  {
   "cell_type": "markdown",
   "id": "46f87957-ab2a-4867-8c5b-67fbb4cfdef8",
   "metadata": {},
   "source": [
    "## 4.3 Make Siamese Model"
   ]
  },
  {
   "cell_type": "code",
   "execution_count": 42,
   "id": "fc7776eb-a521-4a25-9c58-61b3e0a66871",
   "metadata": {},
   "outputs": [],
   "source": [
    "input_image = Input(name='input_img', shape=(100,100,3))\n",
    "validation_image = Input(name='validation_img', shape=(100,100,3))"
   ]
  },
  {
   "cell_type": "code",
   "execution_count": 43,
   "id": "8799f130-5944-4cfb-952a-68e53f048a46",
   "metadata": {},
   "outputs": [],
   "source": [
    "inp_embedding = embedding(input_image)\n",
    "val_embedding = embedding(validation_image)"
   ]
  },
  {
   "cell_type": "code",
   "execution_count": 44,
   "id": "563e9067-74ae-4e92-a2cc-ed17a807f253",
   "metadata": {},
   "outputs": [],
   "source": [
    "siamese_layer = L1Dist()"
   ]
  },
  {
   "cell_type": "code",
   "execution_count": 45,
   "id": "f0c22192-7839-47d7-b827-42645b429fed",
   "metadata": {},
   "outputs": [],
   "source": [
    "distances = siamese_layer(inp_embedding, val_embedding)"
   ]
  },
  {
   "cell_type": "code",
   "execution_count": 46,
   "id": "0bd0c5e9-78a7-437b-9d24-5a42644ea6ae",
   "metadata": {},
   "outputs": [],
   "source": [
    "classifier = Dense(1, activation='sigmoid')(distances)"
   ]
  },
  {
   "cell_type": "code",
   "execution_count": 47,
   "id": "3d16d31c-0afd-4d86-a475-c91233f29bc6",
   "metadata": {},
   "outputs": [
    {
     "data": {
      "text/plain": [
       "<tf.Tensor 'dense_2/Identity:0' shape=(None, 1) dtype=float32>"
      ]
     },
     "execution_count": 47,
     "metadata": {},
     "output_type": "execute_result"
    }
   ],
   "source": [
    "classifier"
   ]
  },
  {
   "cell_type": "code",
   "execution_count": 48,
   "id": "0f9661a3-80b9-425d-89ee-d2ba6f188265",
   "metadata": {},
   "outputs": [],
   "source": [
    "siamese_network = Model(inputs=[input_image, validation_image], outputs=classifier, name='SiameseNetwork')"
   ]
  },
  {
   "cell_type": "code",
   "execution_count": 49,
   "id": "3eee67d6-7bb5-4d26-8ea2-31f75b8666eb",
   "metadata": {},
   "outputs": [
    {
     "name": "stdout",
     "output_type": "stream",
     "text": [
      "Model: \"SiameseNetwork\"\n",
      "__________________________________________________________________________________________________\n",
      "Layer (type)                    Output Shape         Param #     Connected to                     \n",
      "==================================================================================================\n",
      "input_img (InputLayer)          [(None, 100, 100, 3) 0                                            \n",
      "__________________________________________________________________________________________________\n",
      "validation_img (InputLayer)     [(None, 100, 100, 3) 0                                            \n",
      "__________________________________________________________________________________________________\n",
      "embedding (Model)               (None, 4096)         38960448    input_img[0][0]                  \n",
      "                                                                 validation_img[0][0]             \n",
      "__________________________________________________________________________________________________\n",
      "l1_dist_1 (L1Dist)              (None, 4096)         0           embedding[1][0]                  \n",
      "__________________________________________________________________________________________________\n",
      "dense_2 (Dense)                 (None, 1)            4097        l1_dist_1[0][0]                  \n",
      "==================================================================================================\n",
      "Total params: 38,964,545\n",
      "Trainable params: 38,964,545\n",
      "Non-trainable params: 0\n",
      "__________________________________________________________________________________________________\n"
     ]
    }
   ],
   "source": [
    "siamese_network.summary()"
   ]
  },
  {
   "cell_type": "code",
   "execution_count": 50,
   "id": "2ff6aa4a-735c-4f1a-90ee-acc9e5c24d24",
   "metadata": {},
   "outputs": [],
   "source": [
    "def make_siamese_model(): \n",
    "    \n",
    "    # Anchor image input in the network\n",
    "    input_image = Input(name='input_img', shape=(100,100,3))\n",
    "    \n",
    "    # Validation image in the network \n",
    "    validation_image = Input(name='validation_img', shape=(100,100,3))\n",
    "    \n",
    "    # Combine siamese distance components\n",
    "    siamese_layer = L1Dist()\n",
    "    siamese_layer._name = 'distance'\n",
    "    distances = siamese_layer(embedding(input_image), embedding(validation_image))\n",
    "    \n",
    "    # Classification layer \n",
    "    classifier = Dense(1, activation='sigmoid')(distances)\n",
    "    \n",
    "    return Model(inputs=[input_image, validation_image], outputs=classifier, name='SiameseNetwork')"
   ]
  },
  {
   "cell_type": "code",
   "execution_count": 51,
   "id": "e6348a65-69a3-4308-900c-529a3ec7ec74",
   "metadata": {},
   "outputs": [],
   "source": [
    "siamese_model = make_siamese_model()"
   ]
  },
  {
   "cell_type": "code",
   "execution_count": 52,
   "id": "94d37dff-4c90-4ed8-9239-d0ee24d3c39f",
   "metadata": {},
   "outputs": [
    {
     "name": "stdout",
     "output_type": "stream",
     "text": [
      "Model: \"SiameseNetwork\"\n",
      "__________________________________________________________________________________________________\n",
      "Layer (type)                    Output Shape         Param #     Connected to                     \n",
      "==================================================================================================\n",
      "input_img (InputLayer)          [(None, 100, 100, 3) 0                                            \n",
      "__________________________________________________________________________________________________\n",
      "validation_img (InputLayer)     [(None, 100, 100, 3) 0                                            \n",
      "__________________________________________________________________________________________________\n",
      "embedding (Model)               (None, 4096)         38960448    input_img[0][0]                  \n",
      "                                                                 validation_img[0][0]             \n",
      "__________________________________________________________________________________________________\n",
      "distance (L1Dist)               (None, 4096)         0           embedding[3][0]                  \n",
      "__________________________________________________________________________________________________\n",
      "dense_3 (Dense)                 (None, 1)            4097        distance[0][0]                   \n",
      "==================================================================================================\n",
      "Total params: 38,964,545\n",
      "Trainable params: 38,964,545\n",
      "Non-trainable params: 0\n",
      "__________________________________________________________________________________________________\n"
     ]
    }
   ],
   "source": [
    "siamese_model.summary()"
   ]
  },
  {
   "cell_type": "markdown",
   "id": "c910db39-f88e-4591-bdd0-7da11b307887",
   "metadata": {},
   "source": [
    "# 5. Training"
   ]
  },
  {
   "cell_type": "markdown",
   "id": "632a4d36-9951-4912-99e1-450576471e99",
   "metadata": {},
   "source": [
    "## 5.1 Setup Loss and Optimizer"
   ]
  },
  {
   "cell_type": "code",
   "execution_count": 53,
   "id": "5a1cf0a1-b94d-47ca-9b0d-d592dcb3f66d",
   "metadata": {},
   "outputs": [],
   "source": [
    "binary_cross_loss = tf.losses.BinaryCrossentropy()"
   ]
  },
  {
   "cell_type": "code",
   "execution_count": 54,
   "id": "96350a0d-652d-4d1f-8e33-fba9d8de9f74",
   "metadata": {},
   "outputs": [],
   "source": [
    "opt = tf.keras.optimizers.Adam(1e-4) # 0.0001"
   ]
  },
  {
   "cell_type": "markdown",
   "id": "53e90649-ecbb-4586-b188-4ab345502b74",
   "metadata": {},
   "source": [
    "## 5.2 Establish Checkpoints"
   ]
  },
  {
   "cell_type": "code",
   "execution_count": 55,
   "id": "8972b493-d24f-4abf-9a17-7445f22b56a6",
   "metadata": {},
   "outputs": [],
   "source": [
    "\n",
    "checkpoint_dir = './training_checkpoints'\n",
    "checkpoint_prefix = os.path.join(checkpoint_dir, 'ckpt')\n",
    "checkpoint = tf.train.Checkpoint(opt=opt, siamese_model=siamese_model)"
   ]
  },
  {
   "cell_type": "markdown",
   "id": "b4e16bf8-bf99-404e-8b51-8f12e6a58425",
   "metadata": {},
   "source": [
    "## 5.3 Build Train Step Function"
   ]
  },
  {
   "cell_type": "code",
   "execution_count": 56,
   "id": "6cb8bd3c-d11a-4c56-8c5f-0b15773aea7e",
   "metadata": {},
   "outputs": [],
   "source": [
    "@tf.function\n",
    "def train_step(batch):\n",
    "    \n",
    "    # Record all of our operations \n",
    "    with tf.GradientTape() as tape:     \n",
    "        # Get anchor and positive/negative image\n",
    "        X = batch[:2]\n",
    "        # Get label\n",
    "        y = batch[2]\n",
    "        \n",
    "        # Forward pass\n",
    "        yhat = siamese_model(X, training=True)\n",
    "        # Calculate loss\n",
    "        loss = binary_cross_loss(y, yhat)\n",
    "    print(loss)\n",
    "        \n",
    "    # Calculate gradients\n",
    "    grad = tape.gradient(loss, siamese_model.trainable_variables)\n",
    "    \n",
    "    # Calculate updated weights and apply to siamese model\n",
    "    opt.apply_gradients(zip(grad, siamese_model.trainable_variables))\n",
    "    \n",
    "    # Return loss\n",
    "    return loss"
   ]
  },
  {
   "cell_type": "markdown",
   "id": "d13775ba-e561-4731-96ee-7325c1cfe5b5",
   "metadata": {},
   "source": [
    "## 5.4 Build Training Loop"
   ]
  },
  {
   "cell_type": "code",
   "execution_count": 57,
   "id": "204120c4-12c9-4fe3-b99e-f049d5312eb3",
   "metadata": {},
   "outputs": [],
   "source": [
    "def train(data, EPOCHS, length):\n",
    "    # Loop through epochs\n",
    "    for epoch in range(1, EPOCHS+1):\n",
    "        print('\\n Epoch {}/{}'.format(epoch, EPOCHS))\n",
    "        progbar = tf.keras.utils.Progbar(length)\n",
    "        \n",
    "        # Loop through each batch\n",
    "        for idx, batch in enumerate(data):\n",
    "            # Run train step here\n",
    "            train_step(batch)\n",
    "            progbar.update(idx+1)\n",
    "        \n",
    "        # Save checkpoints\n",
    "        if epoch % 10 == 0: \n",
    "            checkpoint.save(file_prefix=checkpoint_prefix)"
   ]
  },
  {
   "cell_type": "markdown",
   "id": "be91f741-a615-47ee-b4c0-930a6f8d1fc8",
   "metadata": {},
   "source": [
    "## 5.5 Train the model"
   ]
  },
  {
   "cell_type": "code",
   "execution_count": 58,
   "id": "2138cdb3-6e61-4f9a-8aa5-c25b379f3991",
   "metadata": {},
   "outputs": [],
   "source": [
    "EPOCHS = 50\n",
    "length=35"
   ]
  },
  {
   "cell_type": "code",
   "execution_count": 59,
   "id": "f693f22b-9a51-43ff-8bd6-18e8eed4b34e",
   "metadata": {},
   "outputs": [
    {
     "name": "stdout",
     "output_type": "stream",
     "text": [
      "\n",
      " Epoch 1/50\n",
      "Tensor(\"binary_crossentropy/weighted_loss/value:0\", shape=(), dtype=float32)\n",
      "Tensor(\"binary_crossentropy/weighted_loss/value:0\", shape=(), dtype=float32)\n",
      "35/35 [==============================] - 878s 25s/step\n",
      "\n",
      " Epoch 2/50\n",
      "35/35 [==============================] - 873s 25s/step\n",
      "\n",
      " Epoch 3/50\n",
      "35/35 [==============================] - 1072s 31s/step\n",
      "\n",
      " Epoch 4/50\n",
      "35/35 [==============================] - 1738s 50s/step\n",
      "\n",
      " Epoch 5/50\n",
      "35/35 [==============================] - 935s 27s/step\n",
      "\n",
      " Epoch 6/50\n",
      "35/35 [==============================] - 951s 27s/step\n",
      "\n",
      " Epoch 7/50\n",
      "35/35 [==============================] - 963s 28s/step\n",
      "\n",
      " Epoch 8/50\n",
      "35/35 [==============================] - 2084s 60s/step\n",
      "\n",
      " Epoch 9/50\n",
      "35/35 [==============================] - 894s 26s/step\n",
      "\n",
      " Epoch 10/50\n",
      "35/35 [==============================] - 880s 25s/step\n",
      "\n",
      " Epoch 11/50\n",
      "35/35 [==============================] - 882s 25s/step\n",
      "\n",
      " Epoch 12/50\n",
      "35/35 [==============================] - 2035s 58s/step\n",
      "\n",
      " Epoch 13/50\n",
      "35/35 [==============================] - 928s 27s/step\n",
      "\n",
      " Epoch 14/50\n",
      "35/35 [==============================] - 957s 27s/step\n",
      "\n",
      " Epoch 15/50\n",
      "35/35 [==============================] - 959s 27s/step\n",
      "\n",
      " Epoch 16/50\n",
      "35/35 [==============================] - 1529s 44s/step\n",
      "\n",
      " Epoch 17/50\n",
      "35/35 [==============================] - 937s 27s/step\n",
      "\n",
      " Epoch 18/50\n",
      "35/35 [==============================] - 961s 27s/step\n",
      "\n",
      " Epoch 19/50\n",
      "35/35 [==============================] - 957s 27s/step\n",
      "\n",
      " Epoch 20/50\n",
      "35/35 [==============================] - 1253s 36s/step\n",
      "\n",
      " Epoch 21/50\n",
      "35/35 [==============================] - 941s 27s/step\n",
      "\n",
      " Epoch 22/50\n",
      "35/35 [==============================] - 962s 27s/step\n",
      "\n",
      " Epoch 23/50\n",
      "35/35 [==============================] - 962s 27s/step\n",
      "\n",
      " Epoch 24/50\n",
      "35/35 [==============================] - 1257s 36s/step\n",
      "\n",
      " Epoch 25/50\n",
      "35/35 [==============================] - 1211s 35s/step\n",
      "\n",
      " Epoch 26/50\n",
      "35/35 [==============================] - 950s 27s/step\n",
      "\n",
      " Epoch 27/50\n",
      "35/35 [==============================] - 961s 27s/step\n",
      "\n",
      " Epoch 28/50\n",
      "35/35 [==============================] - 1514s 43s/step\n",
      "\n",
      " Epoch 29/50\n",
      "35/35 [==============================] - 1754s 50s/step\n",
      "\n",
      " Epoch 30/50\n",
      "35/35 [==============================] - 943s 27s/step\n",
      "\n",
      " Epoch 31/50\n",
      "35/35 [==============================] - 946s 27s/step\n",
      "\n",
      " Epoch 32/50\n",
      "35/35 [==============================] - 964s 28s/step\n",
      "\n",
      " Epoch 33/50\n",
      "35/35 [==============================] - 1765s 50s/step\n",
      "\n",
      " Epoch 34/50\n",
      "35/35 [==============================] - 953s 27s/step\n",
      "\n",
      " Epoch 35/50\n",
      "35/35 [==============================] - 947s 27s/step\n",
      "\n",
      " Epoch 36/50\n",
      "35/35 [==============================] - 964s 28s/step\n",
      "\n",
      " Epoch 37/50\n",
      "35/35 [==============================] - 1765s 50s/step\n",
      "\n",
      " Epoch 38/50\n",
      "35/35 [==============================] - 949s 27s/step\n",
      "\n",
      " Epoch 39/50\n",
      "35/35 [==============================] - 963s 28s/step\n",
      "\n",
      " Epoch 40/50\n",
      "35/35 [==============================] - 972s 28s/step\n",
      "\n",
      " Epoch 41/50\n",
      "35/35 [==============================] - 1720s 49s/step\n",
      "\n",
      " Epoch 42/50\n",
      "35/35 [==============================] - 973s 28s/step\n",
      "\n",
      " Epoch 43/50\n",
      "35/35 [==============================] - 974s 28s/step\n",
      "\n",
      " Epoch 44/50\n",
      "35/35 [==============================] - 935s 27s/step\n",
      "\n",
      " Epoch 45/50\n",
      "35/35 [==============================] - 887s 25s/step\n",
      "\n",
      " Epoch 46/50\n",
      "35/35 [==============================] - 873s 25s/step\n",
      "\n",
      " Epoch 47/50\n",
      "35/35 [==============================] - 885s 25s/step\n",
      "\n",
      " Epoch 48/50\n",
      "35/35 [==============================] - 884s 25s/step\n",
      "\n",
      " Epoch 49/50\n",
      "35/35 [==============================] - 948s 27s/step\n",
      "\n",
      " Epoch 50/50\n",
      "35/35 [==============================] - 889s 25s/step\n"
     ]
    }
   ],
   "source": [
    "train(train_data, EPOCHS, length)"
   ]
  },
  {
   "cell_type": "code",
   "execution_count": null,
   "id": "0c9727ae-7b05-41c8-bdac-1ae74a73c6a8",
   "metadata": {},
   "outputs": [],
   "source": []
  },
  {
   "cell_type": "markdown",
   "id": "b6a920c9-55aa-44b4-a2b4-ea77d00dba0e",
   "metadata": {},
   "source": [
    "# 6. Evaluate Model"
   ]
  },
  {
   "cell_type": "code",
   "execution_count": 60,
   "id": "44b9443b-8686-4b39-b3b2-dc95783cd342",
   "metadata": {},
   "outputs": [],
   "source": [
    "# Import metric calculations\n",
    "from tensorflow.keras.metrics import Precision, Recall"
   ]
  },
  {
   "cell_type": "code",
   "execution_count": 61,
   "id": "ef529c18-3688-41ac-b4ed-481b4f69608c",
   "metadata": {},
   "outputs": [],
   "source": [
    "ex=None\n",
    "for t in test_data:\n",
    "    if ex==None:    \n",
    "        ex=t\n",
    "    else:\n",
    "        break"
   ]
  },
  {
   "cell_type": "code",
   "execution_count": 62,
   "id": "76998f46-84bc-481b-9a12-8bb202b7fbb1",
   "metadata": {},
   "outputs": [],
   "source": [
    "# Get a batch of test data\n",
    "test_input, test_val, y_true = ex"
   ]
  },
  {
   "cell_type": "code",
   "execution_count": 63,
   "id": "4635d6a1-4d8b-43c3-a844-c56057609205",
   "metadata": {},
   "outputs": [
    {
     "data": {
      "text/plain": [
       "array([[3.5879016e-04],\n",
       "       [8.3446503e-07],\n",
       "       [1.0000000e+00],\n",
       "       [8.9406967e-08],\n",
       "       [1.0000000e+00],\n",
       "       [1.0000000e+00],\n",
       "       [0.0000000e+00],\n",
       "       [1.0000000e+00],\n",
       "       [1.0000000e+00],\n",
       "       [0.0000000e+00],\n",
       "       [1.0000000e+00],\n",
       "       [9.9999988e-01],\n",
       "       [0.0000000e+00],\n",
       "       [9.9999964e-01],\n",
       "       [1.0000000e+00],\n",
       "       [5.0663948e-07]], dtype=float32)"
      ]
     },
     "execution_count": 63,
     "metadata": {},
     "output_type": "execute_result"
    }
   ],
   "source": [
    "# Make predictions\n",
    "y_hat = siamese_model.predict([test_input, test_val])\n",
    "y_hat"
   ]
  },
  {
   "cell_type": "code",
   "execution_count": 64,
   "id": "cc14a55c-8ee9-4aef-8b90-06b46f991864",
   "metadata": {},
   "outputs": [
    {
     "data": {
      "text/plain": [
       "[0, 0, 1, 0, 1, 1, 0, 1, 1, 0, 1, 1, 0, 1, 1, 0]"
      ]
     },
     "execution_count": 64,
     "metadata": {},
     "output_type": "execute_result"
    }
   ],
   "source": [
    "# Post processing the results \n",
    "[1 if prediction > 0.5 else 0 for prediction in y_hat ]"
   ]
  },
  {
   "cell_type": "code",
   "execution_count": 65,
   "id": "acdfc9ce-a8ad-4a56-95de-709ee6c81559",
   "metadata": {},
   "outputs": [
    {
     "data": {
      "text/plain": [
       "<tf.Tensor: id=12199, shape=(16,), dtype=float32, numpy=\n",
       "array([0., 0., 1., 0., 1., 1., 0., 1., 1., 0., 1., 1., 0., 1., 1., 0.],\n",
       "      dtype=float32)>"
      ]
     },
     "execution_count": 65,
     "metadata": {},
     "output_type": "execute_result"
    }
   ],
   "source": [
    "y_true"
   ]
  },
  {
   "cell_type": "markdown",
   "id": "2178690b-d874-4215-b85d-bdaf31a8e0c1",
   "metadata": {},
   "source": [
    "# 7. Save Model"
   ]
  },
  {
   "cell_type": "code",
   "execution_count": 70,
   "id": "2c828920-a23c-42e8-ba77-a55acea7c6c4",
   "metadata": {},
   "outputs": [
    {
     "name": "stderr",
     "output_type": "stream",
     "text": [
      "2022-09-13 10:21:39.620712: W tensorflow/python/util/util.cc:299] Sets are not currently considered sequences, but this may change in the future, so consider avoiding using them.\n"
     ]
    },
    {
     "name": "stdout",
     "output_type": "stream",
     "text": [
      "WARNING:tensorflow:From /Users/ad1thya_r/opt/anaconda3/envs/tf/lib/python3.7/site-packages/tensorflow_core/python/ops/resource_variable_ops.py:1781: calling BaseResourceVariable.__init__ (from tensorflow.python.ops.resource_variable_ops) with constraint is deprecated and will be removed in a future version.\n",
      "Instructions for updating:\n",
      "If using Keras pass *_constraint arguments to layers.\n",
      "INFO:tensorflow:Assets written to: saved_model/siamesemodel/assets\n"
     ]
    }
   ],
   "source": [
    "!mkdir -p saved_model\n",
    "siamese_model.save('saved_model/siamesemodel')"
   ]
  },
  {
   "cell_type": "code",
   "execution_count": 71,
   "id": "01f934fc-7492-4386-9e4b-2171acd14484",
   "metadata": {},
   "outputs": [],
   "source": [
    "# Reload model \n",
    "model = tf.keras.models.load_model('saved_model/siamesemodel', \n",
    "                                   custom_objects={'L1Dist':L1Dist, 'BinaryCrossentropy':tf.losses.BinaryCrossentropy})"
   ]
  },
  {
   "cell_type": "code",
   "execution_count": 72,
   "id": "46f0469e-70cb-43cf-9621-dc1e336de087",
   "metadata": {},
   "outputs": [
    {
     "data": {
      "text/plain": [
       "array([[3.5879016e-04],\n",
       "       [8.3446503e-07],\n",
       "       [1.0000000e+00],\n",
       "       [8.9406967e-08],\n",
       "       [1.0000000e+00],\n",
       "       [1.0000000e+00],\n",
       "       [0.0000000e+00],\n",
       "       [1.0000000e+00],\n",
       "       [1.0000000e+00],\n",
       "       [0.0000000e+00],\n",
       "       [1.0000000e+00],\n",
       "       [9.9999988e-01],\n",
       "       [0.0000000e+00],\n",
       "       [9.9999964e-01],\n",
       "       [1.0000000e+00],\n",
       "       [5.0663948e-07]], dtype=float32)"
      ]
     },
     "execution_count": 72,
     "metadata": {},
     "output_type": "execute_result"
    }
   ],
   "source": [
    "# Make predictions with reloaded model\n",
    "model.predict([test_input, test_val])"
   ]
  },
  {
   "cell_type": "markdown",
   "id": "debb9321-a81b-4575-b0c0-a7935cf45d19",
   "metadata": {},
   "source": [
    "# 8. Real Time Test"
   ]
  },
  {
   "cell_type": "code",
   "execution_count": null,
   "id": "1ff625c0-fa64-4666-9b86-954fdedb12fd",
   "metadata": {},
   "outputs": [],
   "source": []
  }
 ],
 "metadata": {
  "kernelspec": {
   "display_name": "Python 3 (ipykernel)",
   "language": "python",
   "name": "python3"
  },
  "language_info": {
   "codemirror_mode": {
    "name": "ipython",
    "version": 3
   },
   "file_extension": ".py",
   "mimetype": "text/x-python",
   "name": "python",
   "nbconvert_exporter": "python",
   "pygments_lexer": "ipython3",
   "version": "3.7.13"
  }
 },
 "nbformat": 4,
 "nbformat_minor": 5
}
